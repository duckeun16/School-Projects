{
 "cells": [
  {
   "cell_type": "code",
   "execution_count": 2,
   "id": "51809fa8",
   "metadata": {},
   "outputs": [],
   "source": [
    "import pandas as pd\n",
    "import numpy as np\n",
    "import matplotlib.pyplot as plt\n",
    "from datetime import datetime\n",
    "import warnings\n",
    "warnings.filterwarnings(\"ignore\")\n",
    "from tqdm import tqdm\n",
    "tqdm.pandas()"
   ]
  },
  {
   "cell_type": "markdown",
   "id": "c7d24c2e",
   "metadata": {},
   "source": [
    "# Convert MTR Data from txt to DataFrame"
   ]
  },
  {
   "cell_type": "code",
   "execution_count": 77,
   "id": "ee486f34",
   "metadata": {},
   "outputs": [],
   "source": [
    "MTR_df = pd.DataFrame(columns=['CODE','fyear','MTR_BI','MTR_AI','Permno','gvkey'])\n",
    "with open('Generated Data/mtr8021.txt') as f:\n",
    "    lines = f.readlines()"
   ]
  },
  {
   "cell_type": "code",
   "execution_count": 4,
   "id": "e4fcccb5",
   "metadata": {},
   "outputs": [
    {
     "name": "stderr",
     "output_type": "stream",
     "text": [
      "100%|███████████████████████████████████| 247267/247267 [48:02<00:00, 85.78it/s]\n"
     ]
    }
   ],
   "source": [
    "for line in tqdm(lines):\n",
    "    row = line.split(' ')\n",
    "    MTR_df = MTR_df.append({'CODE': row[0],\n",
    "                   'fyear': row[1],\n",
    "                   'MTR_BI': row[2],\n",
    "                   'MTR_AI': row[3],\n",
    "                   'Permno': row[4],\n",
    "                   'gvkey': row[5]}, ignore_index= True)"
   ]
  },
  {
   "cell_type": "code",
   "execution_count": 5,
   "id": "52386fa7",
   "metadata": {},
   "outputs": [],
   "source": [
    "MTR_df.to_csv('MTR.csv', index=False)"
   ]
  },
  {
   "cell_type": "code",
   "execution_count": 6,
   "id": "42ec7997",
   "metadata": {},
   "outputs": [
    {
     "data": {
      "text/html": [
       "<div>\n",
       "<style scoped>\n",
       "    .dataframe tbody tr th:only-of-type {\n",
       "        vertical-align: middle;\n",
       "    }\n",
       "\n",
       "    .dataframe tbody tr th {\n",
       "        vertical-align: top;\n",
       "    }\n",
       "\n",
       "    .dataframe thead th {\n",
       "        text-align: right;\n",
       "    }\n",
       "</style>\n",
       "<table border=\"1\" class=\"dataframe\">\n",
       "  <thead>\n",
       "    <tr style=\"text-align: right;\">\n",
       "      <th></th>\n",
       "      <th>CODE</th>\n",
       "      <th>fyear</th>\n",
       "      <th>MTR_BI</th>\n",
       "      <th>MTR_AI</th>\n",
       "      <th>Permno</th>\n",
       "      <th>gvkey</th>\n",
       "    </tr>\n",
       "  </thead>\n",
       "  <tbody>\n",
       "    <tr>\n",
       "      <th>0</th>\n",
       "      <td>00002110</td>\n",
       "      <td>1987</td>\n",
       "      <td>0.39</td>\n",
       "      <td>0.39</td>\n",
       "      <td>.</td>\n",
       "      <td>-999\\n</td>\n",
       "    </tr>\n",
       "    <tr>\n",
       "      <th>1</th>\n",
       "      <td>00002110</td>\n",
       "      <td>1989</td>\n",
       "      <td>0.34</td>\n",
       "      <td>0.39</td>\n",
       "      <td>.</td>\n",
       "      <td>-999\\n</td>\n",
       "    </tr>\n",
       "    <tr>\n",
       "      <th>2</th>\n",
       "      <td>00002110</td>\n",
       "      <td>1990</td>\n",
       "      <td>0.39</td>\n",
       "      <td>0.39</td>\n",
       "      <td>.</td>\n",
       "      <td>-999\\n</td>\n",
       "    </tr>\n",
       "    <tr>\n",
       "      <th>3</th>\n",
       "      <td>00002110</td>\n",
       "      <td>1991</td>\n",
       "      <td>0.208948</td>\n",
       "      <td>0</td>\n",
       "      <td>.</td>\n",
       "      <td>-999\\n</td>\n",
       "    </tr>\n",
       "    <tr>\n",
       "      <th>4</th>\n",
       "      <td>00002110</td>\n",
       "      <td>1992</td>\n",
       "      <td>0.02522</td>\n",
       "      <td>0</td>\n",
       "      <td>.</td>\n",
       "      <td>-999\\n</td>\n",
       "    </tr>\n",
       "  </tbody>\n",
       "</table>\n",
       "</div>"
      ],
      "text/plain": [
       "       CODE fyear    MTR_BI MTR_AI Permno   gvkey\n",
       "0  00002110  1987      0.39   0.39      .  -999\\n\n",
       "1  00002110  1989      0.34   0.39      .  -999\\n\n",
       "2  00002110  1990      0.39   0.39      .  -999\\n\n",
       "3  00002110  1991  0.208948      0      .  -999\\n\n",
       "4  00002110  1992   0.02522      0      .  -999\\n"
      ]
     },
     "execution_count": 6,
     "metadata": {},
     "output_type": "execute_result"
    }
   ],
   "source": [
    "MTR_df.head()"
   ]
  },
  {
   "cell_type": "markdown",
   "id": "433184f6",
   "metadata": {},
   "source": [
    "# MTR Data from Duke\n",
    "reg years (2009-2021) not fully present per firm, each firm must have 13 years slots filled with missing if not given \\\n",
    "some missing MTR data in '.' instead of None/NaN"
   ]
  },
  {
   "cell_type": "markdown",
   "id": "f1849068",
   "metadata": {},
   "source": [
    "The first column has 8 characters. \\\n",
    "**The first 6 characters are the company's CNUM from COMPUSTAT.** \n",
    "**The seventh through eighth characters are the first two digits from the company's CIC code from Compustat.** \\\n",
    "The eight characters are analogous to a CUSIP (first 8 digits). \\\n",
    "The original idea behind using eight characters was that you could match exactly to each firm's 8-digit CUSIP. \\\n",
    "Some firms, like GM, have several Compustat 6-digit CNUMs (one for parent firm, one each for various subsidiaries), so to match precisely, you need to match on more than six digits. \\\n",
    "Unfortunately, Compustat changes CIC codes so often, that using the 8-digit code in my file from, say, 1998 will not match perfectly for 1997, 1996, etc. for some firms. In other words, you may be stuck matching by 6-digit CNUM and hand-checking for possible problems for firms that have subsidiaries or tracking stock. Note: this is not a problem for most firms. Also, the 6-digit/8-digit difference is a potential issue for using ANY Compustat data and is not specific to the tax rates. Note: Thanks for Elaine Harwood for pointing some of this out to me.  (Also, see info about column 5 below) \\\n",
    "The **fifth column is Permno (and the 6th, 7th, and 8th are other relevant Permnos, for this company, if any)**.  I asked a Ph.D. student to match the 8-digit CUSIPs (described above) to permnos, then to fill in missing Permnos by checking 6-digit CNUMS (as described above), and then to do a hand search to fill in any additional missing Permnos.  However, there are still missing values.  This feature is fairly new, so if you decide to merge by Permno, you might want to verify the accuracy of some of your matches by hand and/or also use Cusip/Cnum to match.\n",
    "\n",
    "4.1.3 CUSIP/CNUM/CIC\n",
    "CUSIP is a nine-character alphanumeric identifier assigned to individual financial assets by an independent agency. \\\n",
    "As a rule, the first six characters of the CUSIP can be identified with a company; the next two characters (the seventh and eighth) identify a particular asset (e.g., a class of stock or a bond issue) issued by the company; and the ninth digit is a \"check digit\" to improve the accuracy of electronic transmission of CUSIPs.\n",
    "**Within Compustat, the first six characters of the CUSIP are referred to as the CNUM (CUSIP issuer code)**, \\\n",
    "and the **last three characters of the CUSIP are called the CIC (CUSIP issue code)**. Throughout much of the history of Compustat data files, the CNUM was used as a company identifier, but it has recently been supplanted in this function by the GVKEY. In any event, the Compustat files do not track a company's CUSIP history. Rather, only the most recent CUSIP or CNUM is included."
   ]
  },
  {
   "cell_type": "markdown",
   "id": "cce8e748",
   "metadata": {},
   "source": [
    "# Raw_df"
   ]
  },
  {
   "cell_type": "code",
   "execution_count": 78,
   "id": "b18d96c9",
   "metadata": {},
   "outputs": [
    {
     "name": "stdout",
     "output_type": "stream",
     "text": [
      "8024 firms\n",
      "(134810, 38)\n"
     ]
    }
   ],
   "source": [
    "raw_df = pd.read_parquet('Generated Data/raw_df.parquet')\n",
    "len_0 = raw_df['gvkey'].nunique()\n",
    "print(raw_df['gvkey'].nunique(),'firms')\n",
    "print(raw_df.shape)\n",
    "# identifier to match MTR\n",
    "cusip_raw = set(raw_df['cusip'].unique())\n",
    "# cusip_raw = set([cusip[:-1] for cusip in cusip_raw])\n",
    "raw_df['cusip_8'] =  raw_df['cusip'].apply(lambda x: x[:-1])\n",
    "gvkey_raw = set(raw_df['gvkey'].unique())\n",
    "tkr_raw = set(raw_df['tic'].unique())\n",
    "cusip_raw = set(raw_df['cusip'].unique())\n",
    "cusip8_raw = set(raw_df['cusip_8'].unique())"
   ]
  },
  {
   "cell_type": "code",
   "execution_count": 79,
   "id": "25eda643",
   "metadata": {},
   "outputs": [
    {
     "data": {
      "text/html": [
       "<div>\n",
       "<style scoped>\n",
       "    .dataframe tbody tr th:only-of-type {\n",
       "        vertical-align: middle;\n",
       "    }\n",
       "\n",
       "    .dataframe tbody tr th {\n",
       "        vertical-align: top;\n",
       "    }\n",
       "\n",
       "    .dataframe thead th {\n",
       "        text-align: right;\n",
       "    }\n",
       "</style>\n",
       "<table border=\"1\" class=\"dataframe\">\n",
       "  <thead>\n",
       "    <tr style=\"text-align: right;\">\n",
       "      <th></th>\n",
       "      <th>gvkey</th>\n",
       "      <th>fyear</th>\n",
       "      <th>tic</th>\n",
       "      <th>cusip</th>\n",
       "      <th>act</th>\n",
       "      <th>at</th>\n",
       "      <th>capx</th>\n",
       "      <th>ceq</th>\n",
       "      <th>ch</th>\n",
       "      <th>che</th>\n",
       "      <th>...</th>\n",
       "      <th>xrd</th>\n",
       "      <th>xrdp</th>\n",
       "      <th>xsga</th>\n",
       "      <th>cik</th>\n",
       "      <th>prcc_c</th>\n",
       "      <th>mkvalt</th>\n",
       "      <th>prcc_f</th>\n",
       "      <th>sic</th>\n",
       "      <th>age</th>\n",
       "      <th>cusip_8</th>\n",
       "    </tr>\n",
       "  </thead>\n",
       "  <tbody>\n",
       "  </tbody>\n",
       "</table>\n",
       "<p>0 rows × 39 columns</p>\n",
       "</div>"
      ],
      "text/plain": [
       "Empty DataFrame\n",
       "Columns: [gvkey, fyear, tic, cusip, act, at, capx, ceq, ch, che, cogs, csho, dd1, dlc, dltt, dt, ebit, ebitda, gdwl, intan, intano, lt, ni, pi, ppegt, ppent, rdip, re, sale, xrd, xrdp, xsga, cik, prcc_c, mkvalt, prcc_f, sic, age, cusip_8]\n",
       "Index: []\n",
       "\n",
       "[0 rows x 39 columns]"
      ]
     },
     "execution_count": 79,
     "metadata": {},
     "output_type": "execute_result"
    }
   ],
   "source": [
    "raw_df[raw_df.duplicated()]"
   ]
  },
  {
   "cell_type": "code",
   "execution_count": 23,
   "id": "43b677e9",
   "metadata": {},
   "outputs": [
    {
     "data": {
      "text/plain": [
       "47"
      ]
     },
     "execution_count": 23,
     "metadata": {},
     "output_type": "execute_result"
    }
   ],
   "source": [
    "len(raw_df[raw_df['cusip_8'] == '00036110'])"
   ]
  },
  {
   "cell_type": "code",
   "execution_count": 80,
   "id": "4cdf6631",
   "metadata": {},
   "outputs": [
    {
     "name": "stdout",
     "output_type": "stream",
     "text": [
      "Duke: 33191 len: 247267 1980 2021\n",
      "Duke: 19428 len: 198772 1980 2016\n"
     ]
    },
    {
     "data": {
      "text/html": [
       "<div>\n",
       "<style scoped>\n",
       "    .dataframe tbody tr th:only-of-type {\n",
       "        vertical-align: middle;\n",
       "    }\n",
       "\n",
       "    .dataframe tbody tr th {\n",
       "        vertical-align: top;\n",
       "    }\n",
       "\n",
       "    .dataframe thead th {\n",
       "        text-align: right;\n",
       "    }\n",
       "</style>\n",
       "<table border=\"1\" class=\"dataframe\">\n",
       "  <thead>\n",
       "    <tr style=\"text-align: right;\">\n",
       "      <th></th>\n",
       "      <th>gvkey</th>\n",
       "      <th>year</th>\n",
       "      <th>bcg_mtrnoint</th>\n",
       "      <th>bcg_mtrint</th>\n",
       "      <th>conm</th>\n",
       "      <th>tic</th>\n",
       "      <th>cusip</th>\n",
       "      <th>cik</th>\n",
       "      <th>sic</th>\n",
       "      <th>naics</th>\n",
       "    </tr>\n",
       "  </thead>\n",
       "  <tbody>\n",
       "  </tbody>\n",
       "</table>\n",
       "</div>"
      ],
      "text/plain": [
       "Empty DataFrame\n",
       "Columns: [gvkey, year, bcg_mtrnoint, bcg_mtrint, conm, tic, cusip, cik, sic, naics]\n",
       "Index: []"
      ]
     },
     "execution_count": 80,
     "metadata": {},
     "output_type": "execute_result"
    }
   ],
   "source": [
    "MTR_df = pd.read_csv('Generated Data/MTR_duke.csv')\n",
    "MTR_compustat_df = pd.read_csv('Generated Data/MTR_compustat.csv')\n",
    "\n",
    "# Duke data is strictly better\n",
    "print('Duke:', MTR_df['CODE'].nunique(), 'len:', len(MTR_df),min(MTR_df['fyear']), max(MTR_df['fyear']))\n",
    "print('Duke:', MTR_compustat_df['gvkey'].nunique(), 'len:', len(MTR_compustat_df),\n",
    "      min(MTR_compustat_df['year']), max(MTR_compustat_df['year']))\n",
    "# Clean MTR Data\n",
    "MTR_df = MTR_df.drop_duplicates(keep='last')\n",
    "MTR_df = MTR_df.replace('.', None)\n",
    "MTR_df['gvkey'].replace(-999, None, inplace=True)\n",
    "# Firm Identifiers\n",
    "CODE_MTR = set(MTR_df['CODE'].unique()) ## equivalent to first 8 digits of CUSIP\n",
    "gvkey_MTR = set(MTR_df['gvkey'].unique())\n",
    "permno_MTR = set(MTR_df['Permno'].unique())\n",
    "\n",
    "link_df = pd.read_csv('Generated Data/crsp_compustat_link_permno.csv')\n",
    "link_df['LPERMNO'] = link_df['LPERMNO'].astype(str)\n",
    "link_df['LPERMCO'] = link_df['LPERMCO'].astype(str)\n",
    "link_df['cusip_8'] =  link_df['cusip'].apply(lambda x: x[:-1])\n",
    "gvkey_link = set(link_df['gvkey'].unique())\n",
    "lpermno_link = set(link_df['LPERMNO'].unique())\n",
    "tic_link = set(link_df['tic'].unique())\n",
    "lpermco_link = set(link_df['LPERMCO'].unique())\n",
    "cusip_link = set(link_df['cusip'].unique())\n",
    "cusip8_link = set(link_df['cusip_8'].unique())\n",
    "\n",
    "# Check duplicates\n",
    "MTR_df[MTR_df.duplicated()]\n",
    "MTR_compustat_df[MTR_compustat_df.duplicated()]"
   ]
  },
  {
   "cell_type": "code",
   "execution_count": 25,
   "id": "7abe9525",
   "metadata": {},
   "outputs": [
    {
     "name": "stdout",
     "output_type": "stream",
     "text": [
      "<class 'pandas.core.frame.DataFrame'>\n",
      "Int64Index: 247267 entries, 0 to 247266\n",
      "Data columns (total 6 columns):\n",
      " #   Column  Non-Null Count   Dtype \n",
      "---  ------  --------------   ----- \n",
      " 0   CODE    247267 non-null  object\n",
      " 1   fyear   247267 non-null  int64 \n",
      " 2   MTR_BI  205329 non-null  object\n",
      " 3   MTR_AI  242908 non-null  object\n",
      " 4   Permno  154036 non-null  object\n",
      " 5   gvkey   171256 non-null  object\n",
      "dtypes: int64(1), object(5)\n",
      "memory usage: 13.2+ MB\n",
      "[1987, 1989, 1990, 1991, 1992, 1993, 1994, 1995, 1996, 1997, 1998, 1999, 1985, 1988, 2014, 2015, 2016, 2017, 2018, 1984, 1986, 2000, 2001, 2002, 2003, 2004, 2005, 2006, 2007, 2008, 2009, 2010, 2011, 2012, 2013, 2019, 2020, 2021, 1980, 1981, 1982, 1983]\n"
     ]
    }
   ],
   "source": [
    "# limit data to regression period\n",
    "period_bool = MTR_df['fyear'].apply(lambda x: True if (x>=1975) and (x<=2021) else False) # 2009\n",
    "MTR_df = MTR_df[period_bool]\n",
    "# Check\n",
    "# MTR_df[MTR_df['MTR_BI'] == '.']\n",
    "# MTR_df[MTR_df['MTR_AI'] == '.']\n",
    "MTR_df.info()\n",
    "print(list(MTR_df['fyear'].unique()))"
   ]
  },
  {
   "cell_type": "code",
   "execution_count": 26,
   "id": "a9873140",
   "metadata": {},
   "outputs": [
    {
     "name": "stdout",
     "output_type": "stream",
     "text": [
      "link_df firms 27243\n",
      "raw_df firms  8024\n",
      "MTR_df firms  33191\n",
      "link_df gvkey has more match on raw_df than cusip: 7470 7467 7467 --> use gvkey to match link_df and raw_df\n",
      "link_df match on code with MTR: 19596\n",
      "raw_df match on code with MTR: 6305\n"
     ]
    }
   ],
   "source": [
    "print('link_df firms', len(cusip8_link))\n",
    "print('raw_df firms ', len(cusip8_raw))\n",
    "print('MTR_df firms ', len(CODE_MTR))\n",
    "print('link_df gvkey has more match on raw_df than cusip:',len(gvkey_link & gvkey_raw),\n",
    "      len(cusip8_link & cusip8_raw),len(cusip_link & cusip_raw), \n",
    "      '--> use gvkey to match link_df and raw_df')\n",
    "print('link_df match on code with MTR:', len(cusip8_link & CODE_MTR))\n",
    "print('raw_df match on code with MTR:', len(cusip8_raw & CODE_MTR))"
   ]
  },
  {
   "cell_type": "code",
   "execution_count": 27,
   "id": "31cc4820",
   "metadata": {},
   "outputs": [
    {
     "data": {
      "text/plain": [
       "(15108, 15141)"
      ]
     },
     "execution_count": 27,
     "metadata": {},
     "output_type": "execute_result"
    }
   ],
   "source": [
    "permno_intersection = list(lpermno_link & permno_MTR)\n",
    "link_df['match_permno'] = link_df['LPERMNO'].isin(permno_intersection)\n",
    "len(permno_intersection), link_df.query('match_permno == True')['gvkey'].nunique()"
   ]
  },
  {
   "cell_type": "code",
   "execution_count": 28,
   "id": "cae02849",
   "metadata": {},
   "outputs": [
    {
     "name": "stdout",
     "output_type": "stream",
     "text": [
      "permno matching with Raw_df and MTR_df(those that can be matched with Raw_df on gvkey): 4899 \n",
      "direct gvkey matching with Raw_df and MTR_df: 5807 \n",
      "x is not complete subset 4515 384\n"
     ]
    }
   ],
   "source": [
    "# testing matching method results\n",
    "## linked_df gvkey intersection with raw_df and Permno matching MTR_df, \n",
    "## check if the results from permno matching method used on link_df with MTR_df matches code-matching method\n",
    "## using cusip_8 of raw_df and MTR_df\n",
    "gvkey_matching = gvkey_raw & gvkey_MTR\n",
    "\n",
    "raw_matched_gvkey = list(gvkey_raw & gvkey_link)\n",
    "link_df['raw_matched_gvkey'] = link_df['gvkey'].isin(raw_matched_gvkey)\n",
    "x = list(link_df.query('raw_matched_gvkey == True & match_permno == True')['gvkey'].unique())\n",
    "# x is complete subset of gvkey matched using code-matching method, they yield the same result\n",
    "print('permno matching with Raw_df and MTR_df(those that can be matched with Raw_df on gvkey):',len(x), \n",
    "      '\\ndirect gvkey matching with Raw_df and MTR_df:', len(gvkey_matching),\n",
    "      '\\nx is not complete subset', len(set(x) & set(gvkey_matching)), len(set(x) - set(gvkey_matching)))\n",
    "### permno matching mostly falls in with code matching, 501 firms are not in Raw_df"
   ]
  },
  {
   "cell_type": "code",
   "execution_count": 29,
   "id": "a196b29c",
   "metadata": {},
   "outputs": [
    {
     "name": "stdout",
     "output_type": "stream",
     "text": [
      "8024 initial matching loss: 21 %\n",
      "1. Matching Raw_df and MTR_df on cusip_8: matched: 6305, loss: 1719\n",
      "gvkey of cusip_8 matched 6305\n",
      "raw_df <-cusip_8-> link_df <-Permno-> MTR_df: 4799\n",
      "raw_df <-cusip_8-> link_df <-XPermnoX-> MTR_df: 1774\n",
      "6280\n",
      "gvkey of cusip_8 unmatched 1719\n",
      "1.1. recovery of matching loss with link_df and MTR_df matching on permno: 100\n",
      "Total matched so far: 6405 6405\n",
      "1.2 recovery of matching loss with raw_df and MTR_df matching on gvkey: 31\n",
      "matched using code and gvkey = 6436, 6436\n",
      "Total matched so far: 6436 6436\n",
      "matching loss 1588, 20%\n",
      "minimized loss relative to simple gvkey matching between Raw_df and MTR_df: 629\n"
     ]
    }
   ],
   "source": [
    "### Matching Raw_df with MTR_df\n",
    "# 1. using CODE = match on first 8 digits of cusip\n",
    "intersection_code = set(raw_df['cusip_8']) & CODE_MTR\n",
    "unmatched_code = set(raw_df['cusip_8']) - CODE_MTR\n",
    "print(len_0, 'initial matching loss:', round(len(unmatched_code)/len_0 * 100),'%')\n",
    "print(f'1. Matching Raw_df and MTR_df on cusip_8: matched: {len(intersection_code)}, loss: {len(unmatched_code)}')\n",
    "#raw_df['match_MTR'] = raw_df['cusip_8'].progress_apply(lambda x: True if x in intersection_code else False)\n",
    "raw_df['match_MTR'] = raw_df['cusip_8'].isin(intersection_code)\n",
    "\n",
    "## Those in matched_MTR == True\n",
    "#raw_df[raw_df['match_MTR'] == True]['gvkey'].nunique()\n",
    "gvkey_matched = list(raw_df.query('match_MTR == True')['gvkey'].unique())\n",
    "print('gvkey of cusip_8 matched',len(gvkey_matched))\n",
    "link_df['raw_gvkey_matched'] = link_df['gvkey'].isin(gvkey_matched)\n",
    "print('raw_df <-cusip_8-> link_df <-Permno-> MTR_df:',link_df.query('raw_gvkey_matched == True & match_permno == True')['gvkey'].nunique())\n",
    "print('raw_df <-cusip_8-> link_df <-XPermnoX-> MTR_df:',link_df.query('raw_gvkey_matched == True & match_permno == False')['gvkey'].nunique())\n",
    "print(link_df.query('raw_gvkey_matched == True')['gvkey'].nunique())\n",
    "## Those in matched_MTR == False\n",
    "gvkey_unmatched = list(raw_df.query('match_MTR == False')['gvkey'].unique())\n",
    "#list(raw_df[~raw_df['cusip_8'].isin(intersection_code)]['gvkey'].unique())\n",
    "\n",
    "print('gvkey of cusip_8 unmatched',len(gvkey_unmatched))\n",
    "# unmatched gvkey linked with link_df gvkey\n",
    "raw_unmatched_gvkey = list(set(gvkey_unmatched) & gvkey_link)\n",
    "link_df['raw_unmatched_gvkey'] = link_df['gvkey'].isin(raw_unmatched_gvkey)\n",
    "\n",
    "# 1.1 find if those in link_df with unmatched raw gvkey has matchings with MTR_df on Permno\n",
    "loss_recover_permno = list(link_df.query('raw_unmatched_gvkey == True & match_permno == True')['gvkey'].unique())\n",
    "print('1.1. recovery of matching loss with link_df and MTR_df matching on permno:', len(loss_recover_permno))\n",
    "raw_df['loss_recover_permno'] = raw_df['gvkey'].isin(loss_recover_permno)\n",
    "total_match = raw_df.query('match_MTR == True | loss_recover_permno == True')['gvkey'].nunique()\n",
    "print(f'Total matched so far: {len(gvkey_matched) + len(loss_recover_permno)} {total_match}')\n",
    "#print(f'(intersection of cusip_8 matched and unmatched(0=no gvkey overlap): {len(set(gvkey_unmatched) & set(gvkey_matched))})')\n",
    "\n",
    "# 1.2 find if those in Raw_df still in loss could be matched with MTR_df using gvkey\n",
    "gvkey_unmatched = list(raw_df.query('match_MTR == False & loss_recover_permno == False')['gvkey'].unique())\n",
    "loss_recover_gvkey = set(gvkey_unmatched) & gvkey_MTR\n",
    "print('1.2 recovery of matching loss with raw_df and MTR_df matching on gvkey:',len(gvkey_MTR & set(loss_recover_gvkey)))\n",
    "\n",
    "raw_df['loss_recover_gvkey'] = raw_df['gvkey'].isin(loss_recover_gvkey)\n",
    "print(f'matched using code and gvkey = {len(gvkey_matched) + len(loss_recover_permno) + len(loss_recover_gvkey)},',\n",
    "      raw_df.query('match_MTR == True | loss_recover_permno == True | loss_recover_gvkey == True')['gvkey'].nunique())\n",
    "total_match = raw_df.query('match_MTR == True | loss_recover_permno == True | loss_recover_gvkey == True')['gvkey'].nunique()\n",
    "print(f'Total matched so far: {len(gvkey_matched) + len(loss_recover_permno) + len(loss_recover_gvkey)} {total_match}')\n",
    "\n",
    "gvkey_matching = len(gvkey_raw & gvkey_MTR)\n",
    "\n",
    "matching_loss = raw_df.query('match_MTR == False & loss_recover_permno == False & loss_recover_gvkey == False')['gvkey'].nunique()\n",
    "print(f'matching loss {matching_loss}, {round(matching_loss/len_0 * 100)}%')\n",
    "print('minimized loss relative to simple gvkey matching between Raw_df and MTR_df:',(len_0 - gvkey_matching) - (len_0 - total_match))"
   ]
  },
  {
   "cell_type": "code",
   "execution_count": 30,
   "id": "27bb0d7a",
   "metadata": {},
   "outputs": [
    {
     "name": "stdout",
     "output_type": "stream",
     "text": [
      "raw_df firms: 8024\n",
      "MTR_df firms: 33191\n",
      "link_df <-Permno-> MTR_df: 15141\n",
      "<Match 1>raw_df <-cusip_8-> MTR_df: 6305\n",
      "unmatched raw_df <-gvkey-> link_df: 1190\n",
      "<Match 2>unmatched raw_df <-gvkey-> link_df with <-Permno-> MTR_df: 100\n",
      "<Match 3>unmatched raw_df <-gvkey-> MTR_df: 31\n",
      "total match: 6436\n"
     ]
    }
   ],
   "source": [
    "print('raw_df firms:',len(gvkey_raw))\n",
    "print('MTR_df firms:',len(CODE_MTR))\n",
    "\n",
    "permno_intersection = list(lpermno_link & permno_MTR)\n",
    "link_df['match_permno'] = link_df['LPERMNO'].isin(permno_intersection)\n",
    "print('link_df <-Permno-> MTR_df:', link_df.query('match_permno == True')['gvkey'].nunique())\n",
    "\n",
    "intersection_code = set(raw_df['cusip_8']) & CODE_MTR\n",
    "unmatched_code = set(raw_df['cusip_8']) - CODE_MTR\n",
    "raw_df['match_MTR'] = raw_df['cusip_8'].isin(intersection_code)\n",
    "print('<Match 1>raw_df <-cusip_8-> MTR_df:', raw_df.query('match_MTR == True')['gvkey'].nunique())\n",
    "\n",
    "# gvkey of unmatched cusip_8 with MTR_df\n",
    "gvkey_unmatched = list(raw_df.query('match_MTR == False')['gvkey'].unique())\n",
    "# 'unmatched with MTR_df' matched with link_df\n",
    "raw_unmatched_gvkey = list(set(gvkey_unmatched) & gvkey_link)\n",
    "link_df['raw_unmatched_gvkey'] = link_df['gvkey'].isin(raw_unmatched_gvkey)\n",
    "print('unmatched raw_df <-gvkey-> link_df:', link_df.query('raw_unmatched_gvkey == True')['gvkey'].nunique())\n",
    "\n",
    "loss_recover_permno = list(link_df.query('raw_unmatched_gvkey == True & match_permno == True')['gvkey'].unique())\n",
    "raw_df['loss_recover_permno'] = raw_df['gvkey'].isin(loss_recover_permno)\n",
    "print('<Match 2>unmatched raw_df <-gvkey-> link_df with <-Permno-> MTR_df:', raw_df.query('loss_recover_permno == True')['gvkey'].nunique())\n",
    "\n",
    "# gvkey of raw_df unmatched with MTR_df by cusip_8 and Permno\n",
    "gvkey_unmatched = list(raw_df.query('match_MTR == False & loss_recover_permno == False')['gvkey'].unique())\n",
    "# directly match on gvkey\n",
    "loss_recover_gvkey = set(gvkey_unmatched) & gvkey_MTR\n",
    "raw_df['loss_recover_gvkey'] = raw_df['gvkey'].isin(loss_recover_gvkey)\n",
    "print('<Match 3>unmatched raw_df <-gvkey-> MTR_df:', raw_df.query('loss_recover_gvkey == True')['gvkey'].nunique())\n",
    "\n",
    "print('total match:',raw_df.query('match_MTR == True | loss_recover_permno == True | loss_recover_gvkey == True')['gvkey'].nunique())"
   ]
  },
  {
   "cell_type": "code",
   "execution_count": 31,
   "id": "4fa0cd72",
   "metadata": {},
   "outputs": [],
   "source": [
    "matched_raw = list(raw_df.query('match_MTR == True | loss_recover_permno == True | loss_recover_gvkey == True')['gvkey'].unique())"
   ]
  },
  {
   "cell_type": "code",
   "execution_count": 32,
   "id": "caabdd44",
   "metadata": {},
   "outputs": [],
   "source": [
    "MTR_df = MTR_df.set_index('fyear')"
   ]
  },
  {
   "cell_type": "code",
   "execution_count": 33,
   "id": "051f5752",
   "metadata": {},
   "outputs": [
    {
     "name": "stderr",
     "output_type": "stream",
     "text": [
      "100%|███████████████████████████████████████| 8024/8024 [06:34<00:00, 20.35it/s]\n"
     ]
    }
   ],
   "source": [
    "new_MTR = MTR_df.copy()[0:0]\n",
    "intersection_code = set(raw_df['cusip_8']) & CODE_MTR\n",
    "loss_recover_permno = list(raw_df.query('loss_recover_permno == True')['cusip_8'])\n",
    "loss_recover_gvkey = list(raw_df.query('loss_recover_gvkey == True')['cusip_8'])\n",
    "\n",
    "for k in tqdm(set(raw_df['cusip_8'])):\n",
    "    mini_df = new_MTR[0:0]\n",
    "    # 1. Match on cusip_8 and CODE\n",
    "    if k in intersection_code:\n",
    "        #print('Match on cusip_8 and CODE')\n",
    "        mini_df = MTR_df.loc[MTR_df['CODE'] == k]\n",
    "    # 2. Match rest on permno\n",
    "    elif k in loss_recover_permno:\n",
    "        #print('Match loss_recover_permno')\n",
    "        mini_df = MTR_df.loc[MTR_df['CODE'] == k]\n",
    "    # 3. Match rest on gvkey\n",
    "    elif k in loss_recover_gvkey:\n",
    "        #print('Match loss_recover_gvkey')\n",
    "        mini_df = MTR_df.loc[MTR_df['CODE'] == k]\n",
    "    else:\n",
    "        # 4. Cannot be matched, do not include in MTR_df\n",
    "        continue\n",
    "    \n",
    "    key_MTR_years = set(MTR_df.loc[MTR_df['CODE'] == k].index)\n",
    "    key_raw_period = set(raw_df.loc[raw_df['cusip_8'] == k]['fyear'])\n",
    "    # years missing in MTR but exist in raw period for each firms\n",
    "    y_missing = list(set(key_raw_period) - set(key_MTR_years))\n",
    "    for y in y_missing:\n",
    "        # create empty MTR data with raw period missing in MTR years\n",
    "        mini_df.loc[y,:] = None\n",
    "        mini_df.loc[y,'CODE'] = k\n",
    "        mini_df.loc[y,'gvkey'] = raw_df.query('cusip_8 == @k')['gvkey'].unique()[0] #raw_df.loc[raw_df['cusip_8'] == k]['gvkey'].unique()[0]\n",
    "    \n",
    "    mini_df = mini_df.sort_index(ascending=True)\n",
    "    new_MTR = pd.concat([new_MTR, mini_df], axis=0)\n",
    "    #print(new_MTR)\n",
    "\n",
    "MTR_df = new_MTR\n",
    "MTR_df = MTR_df.reset_index()"
   ]
  },
  {
   "cell_type": "code",
   "execution_count": 34,
   "id": "0abd781c",
   "metadata": {},
   "outputs": [
    {
     "data": {
      "text/plain": [
       "8024"
      ]
     },
     "execution_count": 34,
     "metadata": {},
     "output_type": "execute_result"
    }
   ],
   "source": [
    "len(set(raw_df['cusip_8']))"
   ]
  },
  {
   "cell_type": "code",
   "execution_count": 35,
   "id": "cd52f02c",
   "metadata": {},
   "outputs": [
    {
     "name": "stdout",
     "output_type": "stream",
     "text": [
      "set()\n",
      "set()\n",
      "set()\n"
     ]
    }
   ],
   "source": [
    "print(set(intersection_code) & set(loss_recover_permno))\n",
    "print(set(intersection_code) & set(loss_recover_gvkey))\n",
    "print(set(loss_recover_permno) & set(loss_recover_gvkey))"
   ]
  },
  {
   "cell_type": "code",
   "execution_count": 36,
   "id": "6880d70c",
   "metadata": {},
   "outputs": [
    {
     "data": {
      "text/html": [
       "<div>\n",
       "<style scoped>\n",
       "    .dataframe tbody tr th:only-of-type {\n",
       "        vertical-align: middle;\n",
       "    }\n",
       "\n",
       "    .dataframe tbody tr th {\n",
       "        vertical-align: top;\n",
       "    }\n",
       "\n",
       "    .dataframe thead th {\n",
       "        text-align: right;\n",
       "    }\n",
       "</style>\n",
       "<table border=\"1\" class=\"dataframe\">\n",
       "  <thead>\n",
       "    <tr style=\"text-align: right;\">\n",
       "      <th></th>\n",
       "      <th>fyear</th>\n",
       "      <th>CODE</th>\n",
       "      <th>MTR_BI</th>\n",
       "      <th>MTR_AI</th>\n",
       "      <th>Permno</th>\n",
       "      <th>gvkey</th>\n",
       "    </tr>\n",
       "  </thead>\n",
       "  <tbody>\n",
       "  </tbody>\n",
       "</table>\n",
       "</div>"
      ],
      "text/plain": [
       "Empty DataFrame\n",
       "Columns: [fyear, CODE, MTR_BI, MTR_AI, Permno, gvkey]\n",
       "Index: []"
      ]
     },
     "execution_count": 36,
     "metadata": {},
     "output_type": "execute_result"
    }
   ],
   "source": [
    "MTR_df[MTR_df.duplicated()]\n",
    "#MTR_df.groupby('CODE')['fyear'].count()"
   ]
  },
  {
   "cell_type": "code",
   "execution_count": 37,
   "id": "1f32d39b",
   "metadata": {
    "scrolled": false
   },
   "outputs": [
    {
     "data": {
      "text/plain": [
       "6436"
      ]
     },
     "execution_count": 37,
     "metadata": {},
     "output_type": "execute_result"
    }
   ],
   "source": [
    "MTR_df['CODE'].nunique()\n",
    "#MTR_df[MTR_df['gvkey'].isnull()] - some gvkeys are missing cuz most matching was done on cusip_8 and CODE"
   ]
  },
  {
   "cell_type": "code",
   "execution_count": 38,
   "id": "566a0c98",
   "metadata": {},
   "outputs": [
    {
     "data": {
      "text/plain": [
       "(6436, 8024)"
      ]
     },
     "execution_count": 38,
     "metadata": {},
     "output_type": "execute_result"
    }
   ],
   "source": [
    "MTR_df['CODE'].nunique(), raw_df['cusip_8'].nunique()"
   ]
  },
  {
   "cell_type": "code",
   "execution_count": 39,
   "id": "ccdacdb4",
   "metadata": {},
   "outputs": [
    {
     "data": {
      "text/plain": [
       "(6436, 8024)"
      ]
     },
     "execution_count": 39,
     "metadata": {},
     "output_type": "execute_result"
    }
   ],
   "source": [
    "MTR_df['gvkey'].nunique(), raw_df['gvkey'].nunique()"
   ]
  },
  {
   "cell_type": "code",
   "execution_count": 40,
   "id": "5305bcf2",
   "metadata": {},
   "outputs": [
    {
     "data": {
      "text/plain": [
       "6436"
      ]
     },
     "execution_count": 40,
     "metadata": {},
     "output_type": "execute_result"
    }
   ],
   "source": [
    "raw_df.query('match_MTR == True | loss_recover_permno == True | loss_recover_gvkey == True')['gvkey'].nunique()"
   ]
  },
  {
   "cell_type": "code",
   "execution_count": 41,
   "id": "d4c3b0f9",
   "metadata": {},
   "outputs": [
    {
     "name": "stdout",
     "output_type": "stream",
     "text": [
      "6436\n",
      "lost: 1588\n",
      "8024\n"
     ]
    },
    {
     "data": {
      "text/plain": [
       "6436"
      ]
     },
     "execution_count": 41,
     "metadata": {},
     "output_type": "execute_result"
    }
   ],
   "source": [
    "# MTR_keys = set(MTR_df[~MTR_df['gvkey'].isnull()]['gvkey'].unique())\n",
    "# raw_keys = set(raw_df['gvkey'].unique())\n",
    "# intersection = list(MTR_keys & raw_keys)\n",
    "# len(intersection)\n",
    "MTR_code = set(MTR_df['CODE'].unique())\n",
    "raw_cusip_8 = set(raw_df['cusip_8'].unique())\n",
    "intersection = list(MTR_code & raw_cusip_8)\n",
    "print(len(intersection))\n",
    "\n",
    "print('lost:',raw_df.query('match_MTR == False & loss_recover_permno == False & loss_recover_gvkey == False')['gvkey'].nunique())\n",
    "raw_df['in_MTR'] = raw_df['cusip_8'].isin(intersection)\n",
    "print(len(intersection) + raw_df.query('match_MTR == False & loss_recover_permno == False & loss_recover_gvkey == False')['cusip_8'].nunique())\n",
    "raw_df.query('in_MTR == True')['cusip_8'].nunique()"
   ]
  },
  {
   "cell_type": "code",
   "execution_count": 42,
   "id": "1c68d610",
   "metadata": {},
   "outputs": [
    {
     "data": {
      "text/plain": [
       "21.05664488017429"
      ]
     },
     "execution_count": 42,
     "metadata": {},
     "output_type": "execute_result"
    }
   ],
   "source": [
    "1933 / 9180 * 100"
   ]
  },
  {
   "cell_type": "code",
   "execution_count": 43,
   "id": "1cdbf2fe",
   "metadata": {},
   "outputs": [
    {
     "data": {
      "text/plain": [
       "21.08888160052476"
      ]
     },
     "execution_count": 43,
     "metadata": {},
     "output_type": "execute_result"
    }
   ],
   "source": [
    "1929 / 9147 * 100"
   ]
  },
  {
   "cell_type": "code",
   "execution_count": 44,
   "id": "1f17d8d9",
   "metadata": {},
   "outputs": [
    {
     "data": {
      "text/plain": [
       "19.790628115653043"
      ]
     },
     "execution_count": 44,
     "metadata": {},
     "output_type": "execute_result"
    }
   ],
   "source": [
    "1588 / 8024 * 100"
   ]
  },
  {
   "cell_type": "code",
   "execution_count": 45,
   "id": "c24eecdb",
   "metadata": {},
   "outputs": [
    {
     "data": {
      "text/plain": [
       "6436"
      ]
     },
     "execution_count": 45,
     "metadata": {},
     "output_type": "execute_result"
    }
   ],
   "source": [
    "### Match MTR_df and raw_df\n",
    "raw_df = raw_df.rename(columns={'cusip_8':'CODE'})\n",
    "rawMTR_df = pd.merge(raw_df, MTR_df[['CODE','fyear','MTR_BI','MTR_AI']], on=['CODE', 'fyear'])\n",
    "rawMTR_df['MTR_BI'] = rawMTR_df['MTR_BI'].apply(lambda x: None if x == None else float(x))\n",
    "rawMTR_df['MTR_AI'] = rawMTR_df['MTR_AI'].apply(lambda x: None if x == None else float(x))\n",
    "rawMTR_df['gvkey'].nunique()"
   ]
  },
  {
   "cell_type": "code",
   "execution_count": 46,
   "id": "751bbb92",
   "metadata": {},
   "outputs": [
    {
     "name": "stdout",
     "output_type": "stream",
     "text": [
      "0.30573803977529346 0.2089795148954314\n"
     ]
    }
   ],
   "source": [
    "### handling missing MTR with mean of the sample\n",
    "MTR_BI_mean = rawMTR_df['MTR_BI'].mean()\n",
    "MTR_AI_mean = rawMTR_df['MTR_AI'].mean()\n",
    "print(MTR_BI_mean, MTR_AI_mean)\n",
    "\n",
    "rawMTR_df.loc[rawMTR_df['MTR_BI'].isnull() == True, 'MTR_BI'] = MTR_BI_mean\n",
    "rawMTR_df.loc[rawMTR_df['MTR_AI'].isnull() == True, 'MTR_AI'] = MTR_AI_mean"
   ]
  },
  {
   "cell_type": "code",
   "execution_count": 47,
   "id": "ad987c80",
   "metadata": {},
   "outputs": [
    {
     "name": "stdout",
     "output_type": "stream",
     "text": [
      "6436 6436\n"
     ]
    }
   ],
   "source": [
    "print(rawMTR_df['gvkey'].nunique(), rawMTR_df['CODE'].nunique())\n",
    "rawMTR_df = rawMTR_df.drop(columns = ['CODE','match_MTR','loss_recover_permno','loss_recover_gvkey','in_MTR'])"
   ]
  },
  {
   "cell_type": "code",
   "execution_count": 48,
   "id": "9941e6bc",
   "metadata": {},
   "outputs": [
    {
     "name": "stdout",
     "output_type": "stream",
     "text": [
      "<class 'pandas.core.frame.DataFrame'>\n",
      "Int64Index: 126936 entries, 0 to 126935\n",
      "Data columns (total 40 columns):\n",
      " #   Column  Non-Null Count   Dtype  \n",
      "---  ------  --------------   -----  \n",
      " 0   gvkey   126936 non-null  int64  \n",
      " 1   fyear   126936 non-null  float64\n",
      " 2   tic     126936 non-null  object \n",
      " 3   cusip   126936 non-null  object \n",
      " 4   act     124163 non-null  float64\n",
      " 5   at      126936 non-null  float64\n",
      " 6   capx    125803 non-null  float64\n",
      " 7   ceq     126717 non-null  float64\n",
      " 8   ch      118340 non-null  float64\n",
      " 9   che     126887 non-null  float64\n",
      " 10  cogs    126926 non-null  float64\n",
      " 11  csho    125850 non-null  float64\n",
      " 12  dd1     124264 non-null  float64\n",
      " 13  dlc     126803 non-null  float64\n",
      " 14  dltt    126605 non-null  float64\n",
      " 15  dt      61982 non-null   float64\n",
      " 16  ebit    125328 non-null  float64\n",
      " 17  ebitda  126679 non-null  float64\n",
      " 18  gdwl    85044 non-null   float64\n",
      " 19  intan   115965 non-null  float64\n",
      " 20  intano  53088 non-null   float64\n",
      " 21  lt      126687 non-null  float64\n",
      " 22  ni      126930 non-null  float64\n",
      " 23  pi      126926 non-null  float64\n",
      " 24  ppegt   126279 non-null  float64\n",
      " 25  ppent   126781 non-null  float64\n",
      " 26  rdip    64016 non-null   float64\n",
      " 27  re      124453 non-null  float64\n",
      " 28  sale    126936 non-null  float64\n",
      " 29  xrd     72295 non-null   float64\n",
      " 30  xrdp    64320 non-null   float64\n",
      " 31  xsga    110519 non-null  float64\n",
      " 32  cik     120918 non-null  float64\n",
      " 33  prcc_c  119087 non-null  float64\n",
      " 34  mkvalt  60541 non-null   float64\n",
      " 35  prcc_f  118608 non-null  float64\n",
      " 36  sic     126936 non-null  int64  \n",
      " 37  age     126936 non-null  float64\n",
      " 38  MTR_BI  126936 non-null  float64\n",
      " 39  MTR_AI  126936 non-null  float64\n",
      "dtypes: float64(36), int64(2), object(2)\n",
      "memory usage: 39.7+ MB\n"
     ]
    }
   ],
   "source": [
    "rawMTR_df.info()"
   ]
  },
  {
   "cell_type": "code",
   "execution_count": 49,
   "id": "c8891be5",
   "metadata": {},
   "outputs": [
    {
     "data": {
      "text/plain": [
       "6436"
      ]
     },
     "execution_count": 49,
     "metadata": {},
     "output_type": "execute_result"
    }
   ],
   "source": [
    "# save temporarily\n",
    "rawMTR_df.to_parquet('Generated Data/rawMTR_df.parquet')\n",
    "rawMTR_df['gvkey'].nunique()"
   ]
  },
  {
   "cell_type": "markdown",
   "id": "398303a1",
   "metadata": {},
   "source": [
    "# Reg_df"
   ]
  },
  {
   "cell_type": "code",
   "execution_count": 50,
   "id": "0a60aeb8",
   "metadata": {},
   "outputs": [
    {
     "name": "stdout",
     "output_type": "stream",
     "text": [
      "4247 firms\n"
     ]
    }
   ],
   "source": [
    "reg_df = pd.read_parquet('Generated Data/reg_df.parquet') # atsale_only\n",
    "len_0 = reg_df['gvkey'].nunique()\n",
    "print(reg_df['gvkey'].nunique(),'firms')\n",
    "\n",
    "# identifier to match MTR\n",
    "cusip_reg = set(reg_df['cusip'].unique())\n",
    "# cusip_reg = set([cusip[:-1] for cusip in cusip_reg])\n",
    "reg_df['cusip_8'] =  reg_df['cusip'].apply(lambda x: x[:-1])\n",
    "gvkey_reg = set(reg_df['gvkey'].unique())\n",
    "tkr_reg = set(reg_df['tic'].unique())\n",
    "cusip_reg = set(reg_df['cusip'].unique())\n",
    "cusip8_reg = set(reg_df['cusip_8'].unique())"
   ]
  },
  {
   "cell_type": "code",
   "execution_count": 51,
   "id": "79243b94",
   "metadata": {},
   "outputs": [
    {
     "name": "stdout",
     "output_type": "stream",
     "text": [
      "Duke: 33191 len: 247267 1980 2021\n",
      "Duke: 19428 len: 198772 1980 2016\n",
      "<class 'pandas.core.frame.DataFrame'>\n",
      "Int64Index: 65305 entries, 18 to 247266\n",
      "Data columns (total 6 columns):\n",
      " #   Column  Non-Null Count  Dtype \n",
      "---  ------  --------------  ----- \n",
      " 0   CODE    65305 non-null  object\n",
      " 1   fyear   65305 non-null  int64 \n",
      " 2   MTR_BI  48772 non-null  object\n",
      " 3   MTR_AI  63837 non-null  object\n",
      " 4   Permno  22319 non-null  object\n",
      " 5   gvkey   54197 non-null  object\n",
      "dtypes: int64(1), object(5)\n",
      "memory usage: 3.5+ MB\n",
      "[2014, 2015, 2016, 2017, 2018, 2009, 2010, 2011, 2012, 2013, 2019, 2020, 2021]\n"
     ]
    }
   ],
   "source": [
    "MTR_df = pd.read_csv('Generated Data/MTR_duke.csv')\n",
    "MTR_compustat_df = pd.read_csv('Generated Data/MTR_compustat.csv')\n",
    "\n",
    "# Duke data is strictly better\n",
    "print('Duke:', MTR_df['CODE'].nunique(), 'len:', len(MTR_df),min(MTR_df['fyear']), max(MTR_df['fyear']))\n",
    "print('Duke:', MTR_compustat_df['gvkey'].nunique(), 'len:', len(MTR_compustat_df),\n",
    "      min(MTR_compustat_df['year']), max(MTR_compustat_df['year']))\n",
    "# Clean MTR Data\n",
    "MTR_df = MTR_df.drop_duplicates(keep='last')\n",
    "MTR_df = MTR_df.replace('.', None)\n",
    "MTR_df['gvkey'].replace(-999, None, inplace=True)\n",
    "# Firm Identifiers\n",
    "CODE_MTR = set(MTR_df['CODE'].unique()) ## equivalent to first 8 digits of CUSIP\n",
    "gvkey_MTR = set(MTR_df['gvkey'].unique())\n",
    "permno_MTR = set(MTR_df['Permno'].unique())\n",
    "\n",
    "link_df = pd.read_csv('Generated Data/crsp_compustat_link_permno.csv')\n",
    "link_df['LPERMNO'] = link_df['LPERMNO'].astype(str)\n",
    "link_df['LPERMCO'] = link_df['LPERMCO'].astype(str)\n",
    "link_df['cusip_8'] =  link_df['cusip'].apply(lambda x: x[:-1])\n",
    "gvkey_link = set(link_df['gvkey'].unique())\n",
    "lpermno_link = set(link_df['LPERMNO'].unique())\n",
    "tic_link = set(link_df['tic'].unique())\n",
    "lpermco_link = set(link_df['LPERMCO'].unique())\n",
    "cusip_link = set(link_df['cusip'].unique())\n",
    "cusip8_link = set(link_df['cusip_8'].unique())\n",
    "\n",
    "# limit data to regression period\n",
    "period_bool = MTR_df['fyear'].apply(lambda x: True if (x>=2009) and (x<=2021) else False)\n",
    "MTR_df = MTR_df[period_bool]\n",
    "# Check\n",
    "# MTR_df[MTR_df['MTR_BI'] == '.']\n",
    "# MTR_df[MTR_df['MTR_AI'] == '.']\n",
    "MTR_df.info()\n",
    "print(list(MTR_df['fyear'].unique()))"
   ]
  },
  {
   "cell_type": "code",
   "execution_count": 52,
   "id": "2c09e7c7",
   "metadata": {},
   "outputs": [
    {
     "name": "stdout",
     "output_type": "stream",
     "text": [
      "link_df firms 27243\n",
      "reg_df firms  4247\n",
      "MTR_df firms  33191\n",
      "link_df gvkey has more match on reg_df than cusip: 3982 3979 3979 --> use gvkey to match link_df and reg_df\n",
      "link_df match on code with MTR: 19596\n",
      "reg_df match on code with MTR: 3339\n"
     ]
    }
   ],
   "source": [
    "print('link_df firms', len(cusip8_link))\n",
    "print('reg_df firms ', len(cusip8_reg))\n",
    "print('MTR_df firms ', len(CODE_MTR))\n",
    "print('link_df gvkey has more match on reg_df than cusip:',len(gvkey_link & gvkey_reg),\n",
    "      len(cusip8_link & cusip8_reg),len(cusip_link & cusip_reg), \n",
    "      '--> use gvkey to match link_df and reg_df')\n",
    "print('link_df match on code with MTR:', len(cusip8_link & CODE_MTR))\n",
    "print('reg_df match on code with MTR:', len(cusip8_reg & CODE_MTR))"
   ]
  },
  {
   "cell_type": "code",
   "execution_count": 53,
   "id": "8770516c",
   "metadata": {},
   "outputs": [
    {
     "data": {
      "text/plain": [
       "(15108, 15141)"
      ]
     },
     "execution_count": 53,
     "metadata": {},
     "output_type": "execute_result"
    }
   ],
   "source": [
    "permno_intersection = list(lpermno_link & permno_MTR)\n",
    "link_df['match_permno'] = link_df['LPERMNO'].isin(permno_intersection)\n",
    "len(permno_intersection), link_df.query('match_permno == True')['gvkey'].nunique()"
   ]
  },
  {
   "cell_type": "code",
   "execution_count": 54,
   "id": "547d05e7",
   "metadata": {},
   "outputs": [
    {
     "name": "stdout",
     "output_type": "stream",
     "text": [
      "4247 initial matching loss: 21 %\n",
      "1. Matching reg_df and MTR_df on cusip_8: matched: 3339, loss: 908\n",
      "gvkey of cusip_8 matched 3339\n",
      "reg_df <-cusip_8-> link_df <-Permno-> MTR_df: 1939\n",
      "reg_df <-cusip_8-> link_df <-XPermnoX-> MTR_df: 1564\n",
      "3331\n",
      "gvkey of cusip_8 unmatched 908\n",
      "1.1. recovery of matching loss with link_df and MTR_df matching on permno: 65\n",
      "Total matched so far: 3404 3404\n",
      "1.2 recovery of matching loss with reg_df and MTR_df matching on gvkey: 31\n",
      "matched using code and gvkey = 3435, 3435\n",
      "Total matched so far: 3435 3435\n",
      "matching loss 812, 19%\n",
      "minimized loss relative to simple gvkey matching between reg_df and MTR_df: 365\n"
     ]
    }
   ],
   "source": [
    "### Matching reg_df with MTR_df\n",
    "# 1. using CODE = match on first 8 digits of cusip\n",
    "intersection_code = set(reg_df['cusip_8']) & CODE_MTR\n",
    "unmatched_code = set(reg_df['cusip_8']) - CODE_MTR\n",
    "print(len_0, 'initial matching loss:', round(len(unmatched_code)/len_0 * 100),'%')\n",
    "print(f'1. Matching reg_df and MTR_df on cusip_8: matched: {len(intersection_code)}, loss: {len(unmatched_code)}')\n",
    "#reg_df['match_MTR'] = reg_df['cusip_8'].progress_apply(lambda x: True if x in intersection_code else False)\n",
    "reg_df['match_MTR'] = reg_df['cusip_8'].isin(intersection_code)\n",
    "\n",
    "## Those in matched_MTR == True\n",
    "#reg_df[reg_df['match_MTR'] == True]['gvkey'].nunique()\n",
    "gvkey_matched = list(reg_df.query('match_MTR == True')['gvkey'].unique())\n",
    "print('gvkey of cusip_8 matched',len(gvkey_matched))\n",
    "link_df['reg_gvkey_matched'] = link_df['gvkey'].isin(gvkey_matched)\n",
    "print('reg_df <-cusip_8-> link_df <-Permno-> MTR_df:',link_df.query('reg_gvkey_matched == True & match_permno == True')['gvkey'].nunique())\n",
    "print('reg_df <-cusip_8-> link_df <-XPermnoX-> MTR_df:',link_df.query('reg_gvkey_matched == True & match_permno == False')['gvkey'].nunique())\n",
    "print(link_df.query('reg_gvkey_matched == True')['gvkey'].nunique())\n",
    "## Those in matched_MTR == False\n",
    "gvkey_unmatched = list(reg_df.query('match_MTR == False')['gvkey'].unique())\n",
    "#list(reg_df[~reg_df['cusip_8'].isin(intersection_code)]['gvkey'].unique())\n",
    "\n",
    "print('gvkey of cusip_8 unmatched',len(gvkey_unmatched))\n",
    "# unmatched gvkey linked with link_df gvkey\n",
    "reg_unmatched_gvkey = list(set(gvkey_unmatched) & gvkey_link)\n",
    "link_df['reg_unmatched_gvkey'] = link_df['gvkey'].isin(reg_unmatched_gvkey)\n",
    "\n",
    "# 1.1 find if those in link_df with unmatched reg gvkey has matchings with MTR_df on Permno\n",
    "loss_recover_permno = list(link_df.query('reg_unmatched_gvkey == True & match_permno == True')['gvkey'].unique())\n",
    "print('1.1. recovery of matching loss with link_df and MTR_df matching on permno:', len(loss_recover_permno))\n",
    "reg_df['loss_recover_permno'] = reg_df['gvkey'].isin(loss_recover_permno)\n",
    "total_match = reg_df.query('match_MTR == True | loss_recover_permno == True')['gvkey'].nunique()\n",
    "print(f'Total matched so far: {len(gvkey_matched) + len(loss_recover_permno)} {total_match}')\n",
    "#print(f'(intersection of cusip_8 matched and unmatched(0=no gvkey overlap): {len(set(gvkey_unmatched) & set(gvkey_matched))})')\n",
    "\n",
    "# 1.2 find if those in reg_df still in loss could be matched with MTR_df using gvkey\n",
    "gvkey_unmatched = list(reg_df.query('match_MTR == False & loss_recover_permno == False')['gvkey'].unique())\n",
    "loss_recover_gvkey = set(gvkey_unmatched) & gvkey_MTR\n",
    "print('1.2 recovery of matching loss with reg_df and MTR_df matching on gvkey:',len(gvkey_MTR & set(loss_recover_gvkey)))\n",
    "\n",
    "reg_df['loss_recover_gvkey'] = reg_df['gvkey'].isin(loss_recover_gvkey)\n",
    "print(f'matched using code and gvkey = {len(gvkey_matched) + len(loss_recover_permno) + len(loss_recover_gvkey)},',\n",
    "      reg_df.query('match_MTR == True | loss_recover_permno == True | loss_recover_gvkey == True')['gvkey'].nunique())\n",
    "total_match = reg_df.query('match_MTR == True | loss_recover_permno == True | loss_recover_gvkey == True')['gvkey'].nunique()\n",
    "print(f'Total matched so far: {len(gvkey_matched) + len(loss_recover_permno) + len(loss_recover_gvkey)} {total_match}')\n",
    "\n",
    "gvkey_matching = len(gvkey_reg & gvkey_MTR)\n",
    "\n",
    "matching_loss = reg_df.query('match_MTR == False & loss_recover_permno == False & loss_recover_gvkey == False')['gvkey'].nunique()\n",
    "print(f'matching loss {matching_loss}, {round(matching_loss/len_0 * 100)}%')\n",
    "print('minimized loss relative to simple gvkey matching between reg_df and MTR_df:',(len_0 - gvkey_matching) - (len_0 - total_match))"
   ]
  },
  {
   "cell_type": "code",
   "execution_count": 55,
   "id": "7dd792dc",
   "metadata": {},
   "outputs": [
    {
     "name": "stdout",
     "output_type": "stream",
     "text": [
      "reg_df firms: 4247\n",
      "MTR_df firms: 33191\n",
      "link_df <-Permno-> MTR_df: 15141\n",
      "<Match 1>reg_df <-cusip_8-> MTR_df: 3339\n",
      "unmatched reg_df <-gvkey-> link_df: 651\n",
      "<Match 2>unmatched reg_df <-gvkey-> link_df with <-Permno-> MTR_df: 65\n",
      "<Match 3>unmatched reg_df <-gvkey-> MTR_df: 31\n",
      "total match: 3435\n"
     ]
    }
   ],
   "source": [
    "print('reg_df firms:',len(gvkey_reg))\n",
    "print('MTR_df firms:',len(CODE_MTR))\n",
    "\n",
    "permno_intersection = list(lpermno_link & permno_MTR)\n",
    "link_df['match_permno'] = link_df['LPERMNO'].isin(permno_intersection)\n",
    "print('link_df <-Permno-> MTR_df:', link_df.query('match_permno == True')['gvkey'].nunique())\n",
    "\n",
    "intersection_code = set(reg_df['cusip_8']) & CODE_MTR\n",
    "unmatched_code = set(reg_df['cusip_8']) - CODE_MTR\n",
    "reg_df['match_MTR'] = reg_df['cusip_8'].isin(intersection_code)\n",
    "print('<Match 1>reg_df <-cusip_8-> MTR_df:', reg_df.query('match_MTR == True')['gvkey'].nunique())\n",
    "\n",
    "# gvkey of unmatched cusip_8 with MTR_df\n",
    "gvkey_unmatched = list(reg_df.query('match_MTR == False')['gvkey'].unique())\n",
    "# 'unmatched with MTR_df' matched with link_df\n",
    "reg_unmatched_gvkey = list(set(gvkey_unmatched) & gvkey_link)\n",
    "link_df['reg_unmatched_gvkey'] = link_df['gvkey'].isin(reg_unmatched_gvkey)\n",
    "print('unmatched reg_df <-gvkey-> link_df:', link_df.query('reg_unmatched_gvkey == True')['gvkey'].nunique())\n",
    "\n",
    "loss_recover_permno = list(link_df.query('reg_unmatched_gvkey == True & match_permno == True')['gvkey'].unique())\n",
    "reg_df['loss_recover_permno'] = reg_df['gvkey'].isin(loss_recover_permno)\n",
    "print('<Match 2>unmatched reg_df <-gvkey-> link_df with <-Permno-> MTR_df:', reg_df.query('loss_recover_permno == True')['gvkey'].nunique())\n",
    "\n",
    "# gvkey of reg_df unmatched with MTR_df by cusip_8 and Permno\n",
    "gvkey_unmatched = list(reg_df.query('match_MTR == False & loss_recover_permno == False')['gvkey'].unique())\n",
    "# directly match on gvkey\n",
    "loss_recover_gvkey = set(gvkey_unmatched) & gvkey_MTR\n",
    "reg_df['loss_recover_gvkey'] = reg_df['gvkey'].isin(loss_recover_gvkey)\n",
    "print('<Match 3>unmatched reg_df <-gvkey-> MTR_df:', reg_df.query('loss_recover_gvkey == True')['gvkey'].nunique())\n",
    "\n",
    "print('total match:',reg_df.query('match_MTR == True | loss_recover_permno == True | loss_recover_gvkey == True')['gvkey'].nunique())"
   ]
  },
  {
   "cell_type": "code",
   "execution_count": 56,
   "id": "8c7957b1",
   "metadata": {},
   "outputs": [],
   "source": [
    "matched_reg = list(reg_df.query('match_MTR == True | loss_recover_permno == True | loss_recover_gvkey == True')['gvkey'].unique())"
   ]
  },
  {
   "cell_type": "code",
   "execution_count": 57,
   "id": "12024c3c",
   "metadata": {},
   "outputs": [
    {
     "name": "stdout",
     "output_type": "stream",
     "text": [
      "MTR matched raw firms: 6436\n",
      "MTR matched reg firms: 3435\n",
      "intersection 3435\n",
      "matched_reg is complete subset of matched_raw: 0 3001\n"
     ]
    }
   ],
   "source": [
    "print('MTR matched raw firms:', len(matched_raw))\n",
    "print('MTR matched reg firms:', len(matched_reg))\n",
    "print('intersection', len(set(matched_raw) & set(matched_reg)))\n",
    "print('matched_reg is complete subset of matched_raw:', len(set(matched_reg) - set(matched_raw)), len(set(matched_raw) - set(matched_reg)))"
   ]
  },
  {
   "cell_type": "code",
   "execution_count": 58,
   "id": "dbbc65bf",
   "metadata": {},
   "outputs": [],
   "source": [
    "MTR_df = MTR_df.set_index('fyear')"
   ]
  },
  {
   "cell_type": "code",
   "execution_count": 59,
   "id": "01ec0ab1",
   "metadata": {
    "scrolled": true
   },
   "outputs": [
    {
     "name": "stderr",
     "output_type": "stream",
     "text": [
      "100%|███████████████████████████████████████| 4247/4247 [00:52<00:00, 80.80it/s]\n"
     ]
    }
   ],
   "source": [
    "new_MTR = MTR_df.copy()[0:0]\n",
    "intersection_code = set(reg_df['cusip_8']) & CODE_MTR\n",
    "loss_recover_permno = list(reg_df.query('loss_recover_permno == True')['cusip_8'])\n",
    "loss_recover_gvkey = list(reg_df.query('loss_recover_gvkey == True')['cusip_8'])\n",
    "\n",
    "for k in tqdm(set(reg_df['cusip_8'])):\n",
    "    mini_df = mini_df[0:0]\n",
    "    # 1. Match on cusip_8 and CODE\n",
    "    if k in intersection_code:\n",
    "        #print('Match on cusip_8 and CODE')\n",
    "        mini_df = MTR_df.loc[MTR_df['CODE'] == k]\n",
    "    # 2. Match rest on permno\n",
    "    elif k in loss_recover_permno:\n",
    "        #print('Match loss_recover_permno')\n",
    "        mini_df = MTR_df.loc[MTR_df['CODE'] == k]\n",
    "    # 3. Match rest on gvkey\n",
    "    elif k in loss_recover_gvkey:\n",
    "        #print('Match loss_recover_gvkey')\n",
    "        mini_df = MTR_df.loc[MTR_df['CODE'] == k]\n",
    "    else:\n",
    "        # 4. Cannot be matched, do not include in MTR_df\n",
    "        continue\n",
    "    \n",
    "    key_MTR_years = set(MTR_df.loc[MTR_df['CODE'] == k].index)\n",
    "    key_reg_period = set(reg_df.loc[reg_df['cusip_8'] == k]['fyear'])\n",
    "    # years missing in MTR but exist in reg period for each firms\n",
    "    y_missing = list(set(key_reg_period) - set(key_MTR_years))\n",
    "    for y in y_missing:\n",
    "        # create empty MTR data with reg period missing in MTR years\n",
    "        mini_df.loc[y,:] = None\n",
    "        mini_df.loc[y,'CODE'] = k\n",
    "        mini_df.loc[y,'gvkey'] = reg_df.query('cusip_8 == @k')['gvkey'].unique()[0] #reg_df.loc[reg_df['cusip_8'] == k]['gvkey'].unique()[0]\n",
    "    \n",
    "    mini_df = mini_df.sort_index(ascending=True)\n",
    "    new_MTR = pd.concat([new_MTR, mini_df], axis=0)\n",
    "    #print(new_MTR)\n",
    "\n",
    "MTR_df = new_MTR\n",
    "MTR_df = MTR_df.reset_index()"
   ]
  },
  {
   "cell_type": "code",
   "execution_count": 60,
   "id": "2312a42f",
   "metadata": {},
   "outputs": [
    {
     "data": {
      "text/plain": [
       "4247"
      ]
     },
     "execution_count": 60,
     "metadata": {},
     "output_type": "execute_result"
    }
   ],
   "source": [
    "len(set(reg_df['cusip_8']))"
   ]
  },
  {
   "cell_type": "code",
   "execution_count": 61,
   "id": "418b6eb6",
   "metadata": {},
   "outputs": [
    {
     "name": "stdout",
     "output_type": "stream",
     "text": [
      "set()\n",
      "set()\n",
      "set()\n"
     ]
    }
   ],
   "source": [
    "print(set(intersection_code) & set(loss_recover_permno))\n",
    "print(set(intersection_code) & set(loss_recover_gvkey))\n",
    "print(set(loss_recover_permno) & set(loss_recover_gvkey))"
   ]
  },
  {
   "cell_type": "code",
   "execution_count": 62,
   "id": "96701dba",
   "metadata": {},
   "outputs": [
    {
     "data": {
      "text/html": [
       "<div>\n",
       "<style scoped>\n",
       "    .dataframe tbody tr th:only-of-type {\n",
       "        vertical-align: middle;\n",
       "    }\n",
       "\n",
       "    .dataframe tbody tr th {\n",
       "        vertical-align: top;\n",
       "    }\n",
       "\n",
       "    .dataframe thead th {\n",
       "        text-align: right;\n",
       "    }\n",
       "</style>\n",
       "<table border=\"1\" class=\"dataframe\">\n",
       "  <thead>\n",
       "    <tr style=\"text-align: right;\">\n",
       "      <th></th>\n",
       "      <th>fyear</th>\n",
       "      <th>CODE</th>\n",
       "      <th>MTR_BI</th>\n",
       "      <th>MTR_AI</th>\n",
       "      <th>Permno</th>\n",
       "      <th>gvkey</th>\n",
       "    </tr>\n",
       "  </thead>\n",
       "  <tbody>\n",
       "  </tbody>\n",
       "</table>\n",
       "</div>"
      ],
      "text/plain": [
       "Empty DataFrame\n",
       "Columns: [fyear, CODE, MTR_BI, MTR_AI, Permno, gvkey]\n",
       "Index: []"
      ]
     },
     "execution_count": 62,
     "metadata": {},
     "output_type": "execute_result"
    }
   ],
   "source": [
    "MTR_df[MTR_df.duplicated()]"
   ]
  },
  {
   "cell_type": "code",
   "execution_count": 63,
   "id": "f63f43ce",
   "metadata": {},
   "outputs": [
    {
     "name": "stdout",
     "output_type": "stream",
     "text": [
      "3435\n",
      "3435 4247\n",
      "3435 4247\n"
     ]
    },
    {
     "data": {
      "text/plain": [
       "3435"
      ]
     },
     "execution_count": 63,
     "metadata": {},
     "output_type": "execute_result"
    }
   ],
   "source": [
    "print(MTR_df['CODE'].nunique())\n",
    "print(MTR_df['CODE'].nunique(), reg_df['cusip_8'].nunique())\n",
    "print(MTR_df['gvkey'].nunique(), reg_df['gvkey'].nunique())\n",
    "reg_df.query('match_MTR == True | loss_recover_permno == True | loss_recover_gvkey == True')['gvkey'].nunique()"
   ]
  },
  {
   "cell_type": "code",
   "execution_count": 64,
   "id": "828ca511",
   "metadata": {},
   "outputs": [
    {
     "name": "stdout",
     "output_type": "stream",
     "text": [
      "3435\n",
      "lost: 812\n",
      "4247\n"
     ]
    },
    {
     "data": {
      "text/plain": [
       "3435"
      ]
     },
     "execution_count": 64,
     "metadata": {},
     "output_type": "execute_result"
    }
   ],
   "source": [
    "# MTR_keys = set(MTR_df[~MTR_df['gvkey'].isnull()]['gvkey'].unique())\n",
    "# reg_keys = set(reg_df['gvkey'].unique())\n",
    "# intersection = list(MTR_keys & reg_keys)\n",
    "# len(intersection)\n",
    "MTR_code = set(MTR_df['CODE'].unique())\n",
    "reg_cusip_8 = set(reg_df['cusip_8'].unique())\n",
    "intersection = list(MTR_code & reg_cusip_8)\n",
    "print(len(intersection))\n",
    "\n",
    "print('lost:',reg_df.query('match_MTR == False & loss_recover_permno == False & loss_recover_gvkey == False')['gvkey'].nunique())\n",
    "reg_df['in_MTR'] = reg_df['cusip_8'].isin(intersection)\n",
    "print(len(intersection) + reg_df.query('match_MTR == False & loss_recover_permno == False & loss_recover_gvkey == False')['cusip_8'].nunique())\n",
    "reg_df.query('in_MTR == True')['cusip_8'].nunique()"
   ]
  },
  {
   "cell_type": "code",
   "execution_count": 65,
   "id": "37858896",
   "metadata": {},
   "outputs": [
    {
     "data": {
      "text/plain": [
       "21.04960735491285"
      ]
     },
     "execution_count": 65,
     "metadata": {},
     "output_type": "execute_result"
    }
   ],
   "source": [
    "1099 / 5221 * 100"
   ]
  },
  {
   "cell_type": "code",
   "execution_count": 66,
   "id": "689f2bc5",
   "metadata": {},
   "outputs": [
    {
     "data": {
      "text/plain": [
       "21.06978527607362"
      ]
     },
     "execution_count": 66,
     "metadata": {},
     "output_type": "execute_result"
    }
   ],
   "source": [
    "1099 / 5216 * 100"
   ]
  },
  {
   "cell_type": "code",
   "execution_count": 67,
   "id": "1f865489",
   "metadata": {},
   "outputs": [
    {
     "data": {
      "text/plain": [
       "19.119378384742173"
      ]
     },
     "execution_count": 67,
     "metadata": {},
     "output_type": "execute_result"
    }
   ],
   "source": [
    "812 / 4247 * 100"
   ]
  },
  {
   "cell_type": "code",
   "execution_count": 68,
   "id": "89cfb074",
   "metadata": {},
   "outputs": [
    {
     "data": {
      "text/plain": [
       "17.90798432019806"
      ]
     },
     "execution_count": 68,
     "metadata": {},
     "output_type": "execute_result"
    }
   ],
   "source": [
    "868 / 4847 * 100"
   ]
  },
  {
   "cell_type": "code",
   "execution_count": 69,
   "id": "aacb31f8",
   "metadata": {},
   "outputs": [
    {
     "data": {
      "text/plain": [
       "3435"
      ]
     },
     "execution_count": 69,
     "metadata": {},
     "output_type": "execute_result"
    }
   ],
   "source": [
    "### Match MTR_df and reg_df\n",
    "reg_df = reg_df.rename(columns={'cusip_8':'CODE'})\n",
    "regMTR_df = pd.merge(reg_df, MTR_df[['CODE','fyear','MTR_BI','MTR_AI']], on=['CODE', 'fyear'])\n",
    "regMTR_df['MTR_BI'] = regMTR_df['MTR_BI'].apply(lambda x: None if x == None else float(x))\n",
    "regMTR_df['MTR_AI'] = regMTR_df['MTR_AI'].apply(lambda x: None if x == None else float(x))\n",
    "regMTR_df['gvkey'].nunique()"
   ]
  },
  {
   "cell_type": "code",
   "execution_count": 70,
   "id": "5ead1eae",
   "metadata": {},
   "outputs": [
    {
     "name": "stdout",
     "output_type": "stream",
     "text": [
      "0.23928600589927226 0.14268911568372086\n"
     ]
    }
   ],
   "source": [
    "### handling missing MTR with mean of the sample\n",
    "MTR_BI_mean = regMTR_df['MTR_BI'].mean()\n",
    "MTR_AI_mean = regMTR_df['MTR_AI'].mean()\n",
    "print(MTR_BI_mean, MTR_AI_mean)\n",
    "\n",
    "regMTR_df.loc[regMTR_df['MTR_BI'].isnull() == True, 'MTR_BI'] = MTR_BI_mean\n",
    "regMTR_df.loc[regMTR_df['MTR_AI'].isnull() == True, 'MTR_AI'] = MTR_AI_mean"
   ]
  },
  {
   "cell_type": "code",
   "execution_count": 71,
   "id": "a6017c7c",
   "metadata": {},
   "outputs": [
    {
     "name": "stdout",
     "output_type": "stream",
     "text": [
      "3435 3435\n",
      "<class 'pandas.core.frame.DataFrame'>\n",
      "Int64Index: 33015 entries, 0 to 33014\n",
      "Data columns (total 40 columns):\n",
      " #   Column  Non-Null Count  Dtype  \n",
      "---  ------  --------------  -----  \n",
      " 0   gvkey   33015 non-null  int64  \n",
      " 1   fyear   33015 non-null  float64\n",
      " 2   tic     33015 non-null  object \n",
      " 3   cusip   33015 non-null  object \n",
      " 4   act     32389 non-null  float64\n",
      " 5   at      33015 non-null  float64\n",
      " 6   capx    32959 non-null  float64\n",
      " 7   ceq     32925 non-null  float64\n",
      " 8   ch      32612 non-null  float64\n",
      " 9   che     33014 non-null  float64\n",
      " 10  cogs    33015 non-null  float64\n",
      " 11  csho    32649 non-null  float64\n",
      " 12  dd1     32368 non-null  float64\n",
      " 13  dlc     33010 non-null  float64\n",
      " 14  dltt    32883 non-null  float64\n",
      " 15  dt      31692 non-null  float64\n",
      " 16  ebit    33014 non-null  float64\n",
      " 17  ebitda  33000 non-null  float64\n",
      " 18  gdwl    32556 non-null  float64\n",
      " 19  intan   32595 non-null  float64\n",
      " 20  intano  31908 non-null  float64\n",
      " 21  lt      32929 non-null  float64\n",
      " 22  ni      33014 non-null  float64\n",
      " 23  pi      33015 non-null  float64\n",
      " 24  ppegt   32821 non-null  float64\n",
      " 25  ppent   32987 non-null  float64\n",
      " 26  rdip    31820 non-null  float64\n",
      " 27  re      31804 non-null  float64\n",
      " 28  sale    33015 non-null  float64\n",
      " 29  xrd     20420 non-null  float64\n",
      " 30  xrdp    19228 non-null  float64\n",
      " 31  xsga    29572 non-null  float64\n",
      " 32  cik     32554 non-null  float64\n",
      " 33  prcc_c  31386 non-null  float64\n",
      " 34  mkvalt  30047 non-null  float64\n",
      " 35  prcc_f  31381 non-null  float64\n",
      " 36  sic     33015 non-null  int64  \n",
      " 37  age     33015 non-null  float64\n",
      " 38  MTR_BI  33015 non-null  float64\n",
      " 39  MTR_AI  33015 non-null  float64\n",
      "dtypes: float64(36), int64(2), object(2)\n",
      "memory usage: 10.3+ MB\n"
     ]
    }
   ],
   "source": [
    "print(regMTR_df['gvkey'].nunique(), regMTR_df['CODE'].nunique())\n",
    "regMTR_df = regMTR_df.drop(columns = ['CODE','match_MTR','loss_recover_permno','loss_recover_gvkey','in_MTR'])\n",
    "\n",
    "regMTR_df.info()"
   ]
  },
  {
   "cell_type": "code",
   "execution_count": 72,
   "id": "fbc8444c",
   "metadata": {},
   "outputs": [
    {
     "data": {
      "text/plain": [
       "3435"
      ]
     },
     "execution_count": 72,
     "metadata": {},
     "output_type": "execute_result"
    }
   ],
   "source": [
    "# save temporarily\n",
    "regMTR_df.to_parquet('Generated Data/regMTR_df.parquet')\n",
    "regMTR_df['gvkey'].nunique()"
   ]
  },
  {
   "cell_type": "code",
   "execution_count": 73,
   "id": "3fdabc7c",
   "metadata": {
    "scrolled": true
   },
   "outputs": [
    {
     "data": {
      "text/plain": [
       "(3435, 0, 3001)"
      ]
     },
     "execution_count": 73,
     "metadata": {},
     "output_type": "execute_result"
    }
   ],
   "source": [
    "reg_key = set(regMTR_df['gvkey'].unique())\n",
    "raw_key = set(rawMTR_df['gvkey'].unique())\n",
    "# Check if reg_df is complete subset of raw_df\n",
    "len(reg_key & raw_key), len(reg_key - raw_key), len(raw_key - reg_key)"
   ]
  },
  {
   "cell_type": "markdown",
   "id": "a224b0e0",
   "metadata": {},
   "source": [
    "# END"
   ]
  }
 ],
 "metadata": {
  "kernelspec": {
   "display_name": "Python 3 (ipykernel)",
   "language": "python",
   "name": "python3"
  },
  "language_info": {
   "codemirror_mode": {
    "name": "ipython",
    "version": 3
   },
   "file_extension": ".py",
   "mimetype": "text/x-python",
   "name": "python",
   "nbconvert_exporter": "python",
   "pygments_lexer": "ipython3",
   "version": "3.10.9"
  }
 },
 "nbformat": 4,
 "nbformat_minor": 5
}

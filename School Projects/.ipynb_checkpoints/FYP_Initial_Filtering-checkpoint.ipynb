{
 "cells": [
  {
   "cell_type": "markdown",
   "id": "5a12614a",
   "metadata": {},
   "source": [
    "# Get all firms from Compustat universe\n",
    "Using full Annual North America Compustat space data with full time range 1950-06 ~ 2023-02\n",
    "\n",
    "**North America** \\\n",
    "U.S. and Canadian fundamental and market information on active and inactive publicly held companies\n",
    "\n",
    "Compustat North America is a database of U.S. and Canadian fundamental and market information on active and inactive publicly held companies. It provides more than 300 annual and 100 quarterly Income Statement, Balance Sheet, Statement of Cash Flows, and supplemental data items. For most companies, annual history is available back to 1950 and quarterly history back to 1962 with monthly market history back to 1962.\n",
    "\n",
    "Compustat North America files also contain information on aggregates, industry segments, banks, market prices, dividends, and earnings.\n",
    "\n",
    "**Compustat - Capital IQ / Compustat / North America /Fundamentals Annual**"
   ]
  },
  {
   "cell_type": "code",
   "execution_count": 79,
   "id": "918e7834",
   "metadata": {},
   "outputs": [],
   "source": [
    "import pandas as pd\n",
    "import numpy as np\n",
    "import matplotlib.pyplot as plt"
   ]
  },
  {
   "cell_type": "code",
   "execution_count": 80,
   "id": "b7db874e",
   "metadata": {},
   "outputs": [
    {
     "name": "stdout",
     "output_type": "stream",
     "text": [
      "42649 firms\n"
     ]
    },
    {
     "data": {
      "text/plain": [
       "(598080, 23)"
      ]
     },
     "execution_count": 80,
     "metadata": {},
     "output_type": "execute_result"
    }
   ],
   "source": [
    "# Raw Data from Compustat\n",
    "compustat_full = pd.read_csv('Generated Data/Compustat_full0204.csv')\n",
    "len_0 = compustat_full['gvkey'].nunique()\n",
    "print(len_0, 'firms')\n",
    "all_compustat_tkrs = compustat_full\n",
    "all_compustat_tkrs.shape"
   ]
  },
  {
   "cell_type": "markdown",
   "id": "18a6856d",
   "metadata": {},
   "source": [
    "# Filter out US Public Exchanges: remove Private and Non-US exchanges\n",
    "http://finabase.blogspot.com/2014/09/interantional-stock-exchange-codes-for.html \\\n",
    "(EXCHGCD)\t(EXCHGDESC)\tCountry\\\n",
    "0\tSubsidiary/Private\tCanada (X)\\\n",
    "0\tSubsidiary/Private\tUnited States (X)\\\n",
    "1\tNon-traded Company or Security\tCanada (X)\\\n",
    "1\tNon-traded Company or Security\tGermany (X)\\\n",
    "1\tNon-traded Company or Security\tSwitzerland (X)\\\n",
    "1\tNon-traded Company or Security\tTaiwan (X)\\\n",
    "1\tNon-traded Company or Security\tUnited States (X)\\\n",
    "2\tConsolidated Parent or Tracking Stock Company\tUnited States (X)\\\n",
    "3\tLeveraged Buyout\tUnited States (X)\\\n",
    "4\tAdditional Company Record-PreSFAS 94, ProForma, PreAmended\tUnited States (X)\\\n",
    "7\tToronto Stock Exchange\tCanada (X)\\\n",
    "8\tMontreal Stock Exchange\tCanada (X)\\\n",
    "9\tTSX Venture Exchange\tCanada (X)\\\n",
    "10\tAlberta Stock Exchange\tCanada (X)\\\n",
    "11\tNew York Stock Exchange\tUnited States (O) - NYSE\\\n",
    "12\tAmerican SE\tUnited States (O) - AMEX\\\n",
    "13\tOTC Bulletin Board\tUnited States (X)\\\n",
    "14\tNASDAQ-NMS Stock Market\tUnited States (O) - NASDAQ\\\n",
    "15\tNASDAQ OMX Boston\tUnited States (O)\\\n",
    "16\tMidwest Exchange (Chicago)\tUnited States (O)\\\n",
    "17\tNYSE Arca\tUnited States (O)\\\n",
    "18\tPhiladelphia Exchange\tUnited States (O)\\\n",
    "19\tOther-OTC\tUnited States (X)\\\n",
    "20\tUnlisted Evaluated Equity\tUnited States (X)"
   ]
  },
  {
   "cell_type": "code",
   "execution_count": 81,
   "id": "6625bbc8",
   "metadata": {},
   "outputs": [
    {
     "data": {
      "text/plain": [
       "array([12., 14., 13., 19., 11.,  1.,  0.,  3., 20.,  7., 18., 17.,  9.,\n",
       "        8.,  2., 21., 10.,  4., nan, 16., 15.])"
      ]
     },
     "execution_count": 81,
     "metadata": {},
     "output_type": "execute_result"
    }
   ],
   "source": [
    "# all unique exchanges from the Compustat space\n",
    "compustat_full['exchg'].unique()"
   ]
  },
  {
   "cell_type": "code",
   "execution_count": 82,
   "id": "adef6d0a",
   "metadata": {},
   "outputs": [
    {
     "data": {
      "text/plain": [
       "gvkey        0.000000\n",
       "datadate     0.000000\n",
       "fyear        0.035112\n",
       "indfmt       0.000000\n",
       "consol       0.000000\n",
       "popsrc       0.000000\n",
       "datafmt      0.000000\n",
       "tic          0.032604\n",
       "cusip        0.024411\n",
       "conm         0.000000\n",
       "curcd        0.035112\n",
       "exchg        0.024411\n",
       "cik         18.798990\n",
       "costat       0.000000\n",
       "fic          0.000000\n",
       "city         3.784945\n",
       "conml        0.000000\n",
       "county      93.813035\n",
       "idbflag      0.000000\n",
       "incorp      25.621489\n",
       "loc          0.000000\n",
       "sic          0.001505\n",
       "state        8.430645\n",
       "dtype: float64"
      ]
     },
     "execution_count": 82,
     "metadata": {},
     "output_type": "execute_result"
    },
    {
     "data": {
      "image/png": "[encoded data removed]",
      "text/plain": [
       "<Figure size 1200x300 with 1 Axes>"
      ]
     },
     "metadata": {},
     "output_type": "display_data"
    }
   ],
   "source": [
    "# Missing values for identifiable labels\n",
    "missing = all_compustat_tkrs.isnull().sum() / len(all_compustat_tkrs) * 100\n",
    "plt.figure(figsize=(12,3))\n",
    "plt.title('% of missing reg data')\n",
    "plt.bar(missing.index, missing)\n",
    "plt.xticks(rotation=90);\n",
    "missing"
   ]
  },
  {
   "cell_type": "markdown",
   "id": "beed28d2",
   "metadata": {},
   "source": [
    "Limit sample to US public exchanges (exchanges 11, 12, 14 are primarily for public company listings) \\\n",
    "**11 New York Stock Exchange United States (O) - NYSE** \\\n",
    "**12 American SE United States (O) - AMEX** \\\n",
    "**14 NASDAQ-NMS Stock Market United States (O) - NASDAQ** \\\n",
    "15 NASDAQ OMX Boston United States (O) \\\n",
    "16 Midwest Exchange (Chicago) United States (O) \\\n",
    "17 NYSE Arca United States (O) \\\n",
    "18 Philadelphia Exchange United States (O)"
   ]
  },
  {
   "cell_type": "code",
   "execution_count": 83,
   "id": "3f9e2bd2",
   "metadata": {},
   "outputs": [
    {
     "name": "stdout",
     "output_type": "stream",
     "text": [
      "Dropped firms: 20878 49%\n",
      "firm-year observations: 348592\n",
      "unique exchanges: {11.0, 12.0, 14.0, 15.0, 16.0, 17.0, 18.0}\n",
      "unique firms: 21771 firms\n",
      "21771\n",
      "\n",
      "unique firms in each unique exchange:\n",
      "\n",
      "Firm-year obs counts per exchange\n",
      "14.0    10426\n",
      "11.0     6452\n",
      "17.0     2794\n",
      "12.0     2053\n",
      "18.0       44\n",
      "16.0        1\n",
      "15.0        1\n",
      "Name: exchg, dtype: int64\n",
      "\n",
      "Unique Firm counts per exchange:\n",
      "exchg\n",
      "11.0     6452\n",
      "12.0     2053\n",
      "14.0    10426\n",
      "15.0        1\n",
      "16.0        1\n",
      "17.0     2794\n",
      "18.0       44\n",
      "Name: gvkey, dtype: int64\n"
     ]
    }
   ],
   "source": [
    "# Filter US Public Firms\n",
    "exchanges = [11,12,14,15,16,17,18]\n",
    "exchange_bool = all_compustat_tkrs['exchg'].apply(lambda x: True if x in exchanges else False)\n",
    "\n",
    "# dropped firms for exchange filtering\n",
    "dropped = all_compustat_tkrs[~exchange_bool]['gvkey'].nunique()\n",
    "print('Dropped firms:', dropped, f'{round(dropped/len_0 * 100)}%')\n",
    "\n",
    "# firms with exchange of interest\n",
    "all_compustat_tkrs = all_compustat_tkrs[exchange_bool]\n",
    "print('firm-year observations:', len(all_compustat_tkrs))\n",
    "print('unique exchanges:', set(all_compustat_tkrs['exchg'].unique()))\n",
    "print('unique firms:', all_compustat_tkrs['gvkey'].nunique(),'firms')\n",
    "# check redundant observations\n",
    "unique_df = all_compustat_tkrs[~all_compustat_tkrs['gvkey'].duplicated()]\n",
    "print(len(unique_df))\n",
    "\n",
    "print('\\nunique firms in each unique exchange:')\n",
    "print('\\nFirm-year obs counts per exchange')\n",
    "print(unique_df['exchg'].value_counts())\n",
    "print('\\nUnique Firm counts per exchange:')\n",
    "print(all_compustat_tkrs.groupby('exchg')['gvkey'].nunique())\n",
    "\n",
    "## 15 and 16 have single obs"
   ]
  },
  {
   "cell_type": "code",
   "execution_count": 84,
   "id": "79b522e4",
   "metadata": {
    "scrolled": true
   },
   "outputs": [
    {
     "data": {
      "text/plain": [
       "array(['DuPont Fabros Technology Inc'], dtype=object)"
      ]
     },
     "execution_count": 84,
     "metadata": {},
     "output_type": "execute_result"
    }
   ],
   "source": [
    "# check exchange 15 and 16 with single observation\n",
    "all_compustat_tkrs[all_compustat_tkrs['exchg'] == 15]['conml'].unique()"
   ]
  },
  {
   "cell_type": "code",
   "execution_count": 85,
   "id": "63dda5be",
   "metadata": {
    "scrolled": true
   },
   "outputs": [
    {
     "data": {
      "text/plain": [
       "array(['Golden Gate Partners Inc'], dtype=object)"
      ]
     },
     "execution_count": 85,
     "metadata": {},
     "output_type": "execute_result"
    }
   ],
   "source": [
    "all_compustat_tkrs[all_compustat_tkrs['exchg'] == 16]['conml'].unique()"
   ]
  },
  {
   "cell_type": "code",
   "execution_count": 86,
   "id": "9e62320e",
   "metadata": {},
   "outputs": [
    {
     "data": {
      "text/plain": [
       "array(['Arrow Dow Jones Global Yield ETF', 'Mansfelder Metals Ltd',\n",
       "       'VanEck Emerging Markets High Yield Bond ETF', ...,\n",
       "       'Direxion Large Cap Insider Sentiment Shares',\n",
       "       'Direxion All Cap Insider Sentiment Shares',\n",
       "       'Archipelago Holdings Inc'], dtype=object)"
      ]
     },
     "execution_count": 86,
     "metadata": {},
     "output_type": "execute_result"
    }
   ],
   "source": [
    "# stock exchange 17 has many listings, but mostly ETFs, ETNs, Funds\n",
    "all_compustat_tkrs[all_compustat_tkrs['exchg'] == 17]['conml'].unique()"
   ]
  },
  {
   "cell_type": "code",
   "execution_count": 87,
   "id": "902dd101",
   "metadata": {},
   "outputs": [
    {
     "data": {
      "text/plain": [
       "array(['Allied Artists Industries', 'American Consumer Industries Inc',\n",
       "       'American Pacesetter', 'Avco Community Development Inc',\n",
       "       'Berkeley Bio-Medical Inc', 'Berven Carpets Corp',\n",
       "       'Braniff International Corp', 'CPU Computer Corp',\n",
       "       'Checker Motors Corp', 'Comtel Corp', 'Cooper-Jarrett Inc',\n",
       "       'Dasa Corp', 'Dimis Inc', 'Enterprise Development Group',\n",
       "       'Equinox Solar Inc', 'HS Group Inc', 'IHOP Corp-Old',\n",
       "       'Inprojet Corp', 'KDT Industries Inc', 'Lamston (M.H.) Inc',\n",
       "       'Lilli Ann Corp', 'Medsecure Group Inc', 'Midcon Industries Inc',\n",
       "       \"O's Gold Seed Co\", 'Omnidentix Systems Corp', 'Pharmacare Inc',\n",
       "       'Rego Group Inc', \"Sambo's Restaurants\", 'Saxon Industries',\n",
       "       'Silver Dollar Mining Co', 'Siskon Corp', 'Stadium Realty Trust',\n",
       "       'Starr Broadcasting Group Inc', 'Sunshine Consolidated Inc',\n",
       "       'Source Scientific Inc', 'Zenith Electronics Corp',\n",
       "       'US Video Vending Corp', 'Sweet Victory Inc',\n",
       "       'Taylor (S.) Companies Inc', 'American Financial Enterprises Inc',\n",
       "       'Marvel Entertainment Group', 'Southern Pacific Funding Corp',\n",
       "       'Pan Am Corp/FL', 'Waddell & Reed Financial Inc.'], dtype=object)"
      ]
     },
     "execution_count": 87,
     "metadata": {},
     "output_type": "execute_result"
    }
   ],
   "source": [
    "all_compustat_tkrs[all_compustat_tkrs['exchg'] == 18]['conml'].unique()"
   ]
  },
  {
   "cell_type": "markdown",
   "id": "0e38bdef",
   "metadata": {},
   "source": [
    "# Settle on which tickers/gvkeys/firms to be included in the starting sample"
   ]
  },
  {
   "cell_type": "markdown",
   "id": "7d815b98",
   "metadata": {},
   "source": [
    "# Initial filtering based on SIC code availability and special sectors\n",
    "drop firms without SIC information"
   ]
  },
  {
   "cell_type": "code",
   "execution_count": 88,
   "id": "4fe9a9bb",
   "metadata": {},
   "outputs": [
    {
     "name": "stdout",
     "output_type": "stream",
     "text": [
      "missing gvkey: 1 firms\n",
      "companies missing SIC: 1 firms \n",
      "left: 21770 firms\n",
      "(348588, 23)\n"
     ]
    },
    {
     "data": {
      "text/html": [
       "<div>\n",
       "<style scoped>\n",
       "    .dataframe tbody tr th:only-of-type {\n",
       "        vertical-align: middle;\n",
       "    }\n",
       "\n",
       "    .dataframe tbody tr th {\n",
       "        vertical-align: top;\n",
       "    }\n",
       "\n",
       "    .dataframe thead th {\n",
       "        text-align: right;\n",
       "    }\n",
       "</style>\n",
       "<table border=\"1\" class=\"dataframe\">\n",
       "  <thead>\n",
       "    <tr style=\"text-align: right;\">\n",
       "      <th></th>\n",
       "      <th>gvkey</th>\n",
       "      <th>tic</th>\n",
       "    </tr>\n",
       "  </thead>\n",
       "  <tbody>\n",
       "    <tr>\n",
       "      <th>424199</th>\n",
       "      <td>39750</td>\n",
       "      <td>PX</td>\n",
       "    </tr>\n",
       "    <tr>\n",
       "      <th>424200</th>\n",
       "      <td>39750</td>\n",
       "      <td>PX</td>\n",
       "    </tr>\n",
       "    <tr>\n",
       "      <th>424201</th>\n",
       "      <td>39750</td>\n",
       "      <td>PX</td>\n",
       "    </tr>\n",
       "    <tr>\n",
       "      <th>424202</th>\n",
       "      <td>39750</td>\n",
       "      <td>PX</td>\n",
       "    </tr>\n",
       "  </tbody>\n",
       "</table>\n",
       "</div>"
      ],
      "text/plain": [
       "        gvkey tic\n",
       "424199  39750  PX\n",
       "424200  39750  PX\n",
       "424201  39750  PX\n",
       "424202  39750  PX"
      ]
     },
     "execution_count": 88,
     "metadata": {},
     "output_type": "execute_result"
    }
   ],
   "source": [
    "# remove missing SIC (relatively new companies)\n",
    "mask_nan_sic = all_compustat_tkrs.loc[all_compustat_tkrs['sic'].isnull()]\n",
    "mask_nan_gvkey = list(mask_nan_sic['gvkey'].unique())\n",
    "all_compustat_tkrs = all_compustat_tkrs[~all_compustat_tkrs['gvkey'].isin(mask_nan_sic)]\n",
    "\n",
    "# drop missing gvkey\n",
    "print('missing gvkey:',len(set(mask_nan_gvkey)), 'firms')\n",
    "all_compustat_tkrs = all_compustat_tkrs[~all_compustat_tkrs['gvkey'].isin(mask_nan_gvkey)]\n",
    "\n",
    "\n",
    "print('companies missing SIC:', mask_nan_sic['gvkey'].nunique(), 'firms',\n",
    "      '\\nleft:', all_compustat_tkrs['gvkey'].nunique(), 'firms')\n",
    "print(all_compustat_tkrs.shape)\n",
    "mask_nan_sic[['gvkey','tic']]"
   ]
  },
  {
   "cell_type": "markdown",
   "id": "c89f6bd7",
   "metadata": {},
   "source": [
    "## Filter out industries by SIC code (Main & Method Paper)\n",
    "### remove financial firms (6000–6999)\n"
   ]
  },
  {
   "cell_type": "code",
   "execution_count": 89,
   "id": "da8157c6",
   "metadata": {},
   "outputs": [
    {
     "name": "stdout",
     "output_type": "stream",
     "text": [
      "Dropped firms: 8005 (19%)\n",
      "left: 13765\n"
     ]
    },
    {
     "data": {
      "text/html": [
       "<div>\n",
       "<style scoped>\n",
       "    .dataframe tbody tr th:only-of-type {\n",
       "        vertical-align: middle;\n",
       "    }\n",
       "\n",
       "    .dataframe tbody tr th {\n",
       "        vertical-align: top;\n",
       "    }\n",
       "\n",
       "    .dataframe thead th {\n",
       "        text-align: right;\n",
       "    }\n",
       "</style>\n",
       "<table border=\"1\" class=\"dataframe\">\n",
       "  <thead>\n",
       "    <tr style=\"text-align: right;\">\n",
       "      <th></th>\n",
       "      <th>gvkey</th>\n",
       "      <th>datadate</th>\n",
       "      <th>fyear</th>\n",
       "      <th>indfmt</th>\n",
       "      <th>consol</th>\n",
       "      <th>popsrc</th>\n",
       "      <th>datafmt</th>\n",
       "      <th>tic</th>\n",
       "      <th>cusip</th>\n",
       "      <th>conm</th>\n",
       "      <th>...</th>\n",
       "      <th>costat</th>\n",
       "      <th>fic</th>\n",
       "      <th>city</th>\n",
       "      <th>conml</th>\n",
       "      <th>county</th>\n",
       "      <th>idbflag</th>\n",
       "      <th>incorp</th>\n",
       "      <th>loc</th>\n",
       "      <th>sic</th>\n",
       "      <th>state</th>\n",
       "    </tr>\n",
       "  </thead>\n",
       "  <tbody>\n",
       "  </tbody>\n",
       "</table>\n",
       "<p>0 rows × 23 columns</p>\n",
       "</div>"
      ],
      "text/plain": [
       "Empty DataFrame\n",
       "Columns: [gvkey, datadate, fyear, indfmt, consol, popsrc, datafmt, tic, cusip, conm, curcd, exchg, cik, costat, fic, city, conml, county, idbflag, incorp, loc, sic, state]\n",
       "Index: []\n",
       "\n",
       "[0 rows x 23 columns]"
      ]
     },
     "execution_count": 89,
     "metadata": {},
     "output_type": "execute_result"
    }
   ],
   "source": [
    "# remove financial firms - their leverage ratio can distort the standard leverage ratio of nonfinancial firms\n",
    "fin_mask = all_compustat_tkrs[(6000 <= all_compustat_tkrs['sic']) & (all_compustat_tkrs['sic'] <= 6999)]\n",
    "dropped = fin_mask['gvkey'].nunique()\n",
    "print('Dropped firms:', dropped, f'({round(dropped/len_0 * 100)}%)')\n",
    "\n",
    "# DROP\n",
    "Industry_filtered = all_compustat_tkrs.drop(fin_mask.index)\n",
    "print('left:', Industry_filtered['gvkey'].nunique())\n",
    "\n",
    "# check\n",
    "Industry_filtered[(6000 <= Industry_filtered['sic']) & (Industry_filtered['sic'] <= 6999)]"
   ]
  },
  {
   "cell_type": "code",
   "execution_count": 90,
   "id": "b1e759d0",
   "metadata": {},
   "outputs": [
    {
     "name": "stdout",
     "output_type": "stream",
     "text": [
      "13765 firms\n",
      "Dropped firms from the initial raw data: 28884 (68%)\n",
      "exchanges of filtered firms [12. 14. 11. 18. 17.]\n"
     ]
    },
    {
     "data": {
      "text/plain": [
       "(220667, 23)"
      ]
     },
     "execution_count": 90,
     "metadata": {},
     "output_type": "execute_result"
    }
   ],
   "source": [
    "# filtered data so far:\n",
    "len_1 = Industry_filtered['gvkey'].nunique()\n",
    "print(len_1, 'firms')\n",
    "\n",
    "dropped = len_0 - len_1\n",
    "print('Dropped firms from the initial raw data:', dropped, f'({round(dropped/len_0 * 100)}%)')\n",
    "print('exchanges of filtered firms', Industry_filtered['exchg'].unique())\n",
    "Industry_filtered.shape"
   ]
  },
  {
   "cell_type": "code",
   "execution_count": 29,
   "id": "944bca04",
   "metadata": {},
   "outputs": [
    {
     "data": {
      "text/plain": [
       "13765"
      ]
     },
     "execution_count": 29,
     "metadata": {},
     "output_type": "execute_result"
    }
   ],
   "source": [
    "# download industry filtered tickers/gvkeys as txt to search for regression variables data on Compustat\n",
    "lines = list(Industry_filtered['gvkey'].astype(str).unique())\n",
    "with open('Generated Data/Industry_filtered_Master_nonfin.txt', 'w') as f:\n",
    "    for line in lines:\n",
    "        f.write(line)\n",
    "        f.write('\\n')\n",
    "    f.close()\n",
    "len(lines)"
   ]
  },
  {
   "cell_type": "markdown",
   "id": "e25e5a18",
   "metadata": {},
   "source": [
    "# Next:\n",
    "- Using the txt file of gvkeys, fetch regression variables and other features needed to calculate regression variables from Compustat\n",
    "- Clean regression variables data using: **FYP_DataCleaning.ipynb**\n"
   ]
  }
 ],
 "metadata": {
  "kernelspec": {
   "display_name": "Python 3 (ipykernel)",
   "language": "python",
   "name": "python3"
  },
  "language_info": {
   "codemirror_mode": {
    "name": "ipython",
    "version": 3
   },
   "file_extension": ".py",
   "mimetype": "text/x-python",
   "name": "python",
   "nbconvert_exporter": "python",
   "pygments_lexer": "ipython3",
   "version": "3.10.9"
  }
 },
 "nbformat": 4,
 "nbformat_minor": 5
}
